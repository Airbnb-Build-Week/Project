{
 "cells": [
  {
   "cell_type": "code",
   "execution_count": 659,
   "metadata": {},
   "outputs": [],
   "source": [
    "# Basics\n",
    "import pandas as pd\n",
    "import numpy as np\n",
    "import os\n",
    "import geopy\n",
    "\n",
    "# Visualizations\n",
    "import seaborn as sns\n",
    "import matplotlib.pyplot as plt\n",
    "#import plotly.express as px\n",
    "\n",
    "# Regression Models\n",
    "from sklearn.linear_model import LinearRegression, Ridge, LassoCV, RidgeCV\n",
    "from xgboost import XGBRegressor\n",
    "from sklearn.ensemble import RandomForestRegressor\n",
    "\n",
    "# Pipeline \n",
    "from sklearn.pipeline import make_pipeline\n",
    "from category_encoders import OneHotEncoder, OrdinalEncoder\n",
    "from sklearn.impute import SimpleImputer\n",
    "from sklearn.preprocessing import StandardScaler \n",
    "\n",
    "# Split\n",
    "from sklearn.model_selection import train_test_split\n",
    "\n",
    "# Baseline\n",
    "from sklearn.metrics import mean_absolute_error\n",
    "# Tunning\n",
    "from sklearn.model_selection import GridSearchCV, RandomizedSearchCV"
   ]
  },
  {
   "cell_type": "code",
   "execution_count": 4,
   "metadata": {},
   "outputs": [],
   "source": [
    "pd.set_option('display.max_columns', None)"
   ]
  },
  {
   "cell_type": "code",
   "execution_count": 6,
   "metadata": {},
   "outputs": [],
   "source": [
    "#           ### CONCAT FILES IN CSVs FOLDER ###\n",
    "\n",
    "# files = [file_path for file_path in os.listdir('Seasons Data/Spring') if file_path.endswith('.csv')]\n",
    "\n",
    "# df = pd.read_csv(os.path.join('Seasons Data/Spring', files[0]))\n",
    "\n",
    "# for csv_path in files[1:]:\n",
    "#     df_to_add = pd.read_csv(os.path.join('Seasons Data/Spring', csv_path))\n",
    "#     df = pd.concat([df,df_to_add])\n",
    "    \n",
    "    \n",
    "# #df.reset_index(drop=True, inplace=True)\n",
    "\n",
    "# df.to_csv('Spring_Data.csv')"
   ]
  },
  {
   "cell_type": "code",
   "execution_count": 1928,
   "metadata": {},
   "outputs": [],
   "source": [
    "COLS = ['review_scores_accuracy','review_scores_location','review_scores_cleanliness','review_scores_checkin','review_scores_communication',\n",
    "        'neighbourhood_cleansed','picture_url','description','has_availability','host_since','host_response_time','host_is_superhost', 'host_listings_count',\n",
    "        'host_has_profile_pic', 'host_identity_verified', 'latitude','longitude', 'room_type', 'accommodates','bathrooms_text', 'bedrooms', 'beds', 'amenities',\n",
    "        'price','minimum_nights', 'maximum_nights', 'number_of_reviews', 'number_of_reviews_l30d',\n",
    "        'review_scores_rating', 'instant_bookable','reviews_per_month']\n",
    "\n",
    "def wrangle_data(PATH):\n",
    "    df = pd.read_csv(PATH, usecols=COLS, low_memory=False)\n",
    "    \n",
    "    df = df[df['has_availability'] == 't']\n",
    "    \n",
    "#     df['host_acceptance_rate'] = df['host_acceptance_rate'].astype(str).apply(lambda x: x.replace('%','') if x!='nan' else np.nan)\n",
    "#     df['host_acceptance_rate'] = df['host_acceptance_rate'].astype(float)/100\n",
    "    \n",
    "    df['host_since'] = pd.to_datetime(df['host_since']).dt.year\n",
    "    \n",
    "    # Bool Columns\n",
    "    df['host_is_superhost'] = [True if i == 't' else False if i == 'f' else np.nan for i in df['host_is_superhost']]\n",
    "    df['host_has_profile_pic'] = [True if i == 't' else False if i == 'f' else np.nan for i in df['host_has_profile_pic']]\n",
    "    df['host_identity_verified'] = [True if i == 't' else False if i == 'f' else np.nan for i in df['host_identity_verified']]\n",
    "    df['instant_bookable'] = [True if i == 't' else False if i == 'f' else np.nan for i in df['instant_bookable']]\n",
    "    \n",
    "    \n",
    "    df['description_len'] = df['description'].astype(str).apply(lambda x: len(x) if x!='nan' else np.nan)\n",
    "    \n",
    "    df['n_amenities'] = df['amenities'].apply(lambda x: len(x.strip('][').split(', ')) if len(x)>2 else np.nan)\n",
    "\n",
    "    df['n_bathrooms'] = [np.nan if i=='nan' else\n",
    "                         0.5 if i.split()[0]=='Half-bath' else\n",
    "                         1.0 if i.split()[0] in ['Private','Shared'] else\n",
    "                         float(i.split()[0]) for i in df['bathrooms_text'].astype(str)]\n",
    "    \n",
    "    df['price'] = df['price'].apply(lambda x: x.replace('$','').replace(',',''))\n",
    "    df['price'] = df['price'].astype(float)\n",
    "    \n",
    "    # Engineer Features\n",
    "    df['baths_are_shared'] = [np.nan if i=='nan' else True if i.count('shared')!=0 else False for i in df['bathrooms_text'].astype(str)]\n",
    "    \n",
    "    df['multi_listing_host'] = [np.nan if i==np.nan else True if i>1 else False for i in df['host_listings_count']]\n",
    "    \n",
    "    df['total_satisfaction'] = (df['review_scores_accuracy']+df['review_scores_cleanliness']+df['review_scores_checkin']+df['review_scores_communication']+df['review_scores_location'])/5\n",
    "    \n",
    "    df.drop(columns=['has_availability','description', 'amenities','bathrooms_text', 'host_listings_count',\n",
    "                     'review_scores_accuracy','review_scores_location','review_scores_cleanliness',\n",
    "                     'review_scores_checkin','review_scores_communication'], inplace=True)\n",
    "    \n",
    "    \n",
    "    \n",
    "    # Rename Columns\n",
    "    df.columns = ['picture_url', 'host_since', 'response_time', 'superhost',\n",
    "       'host_profile_pic', 'id_verified', 'neighbourhood_cleansed', 'lat',\n",
    "       'lon', 'room_type', 'accommodates', 'n_bedrooms', 'n_beds', 'price',\n",
    "       'min_nights', 'max_nights', 'total_reviews',\n",
    "       'n_reviews_l30d', 'reviews_rating', 'instant_bookable',\n",
    "       'reviews_per_month', 'description_len', 'n_amenities', 'n_baths',\n",
    "       'shared_baths', 'multi_listing_host', 'total_satisfaction']\n",
    "    \n",
    "    # Reorder Columns\n",
    "    df = df[['neighbourhood_cleansed','lat', 'lon','host_since','room_type','response_time','picture_url','host_profile_pic','id_verified','superhost','instant_bookable',\n",
    "             'multi_listing_host','description_len','n_amenities','accommodates','n_bedrooms','n_beds','n_baths','shared_baths','min_nights', 'max_nights','n_reviews_l30d',\n",
    "             'reviews_per_month','total_reviews','total_satisfaction','reviews_rating','price']]\n",
    "    \n",
    "    #Filtering Outliers From\n",
    "    # price Column\n",
    "    df = df[(df['price'] >= df['price'].quantile(0.1)) & (df['price'] <= df['price'].quantile(0.90))]\n",
    "    # min_nights Column\n",
    "    df = df[(df['min_nights'] >= df['min_nights'].quantile(0.01)) & (df['min_nights'] <= df['min_nights'].quantile(0.99))]\n",
    "    # max_nights Column\n",
    "    df = df[(df['max_nights'] >= df['max_nights'].quantile(0.001)) & (df['max_nights'] <= df['max_nights'].quantile(0.99))]\n",
    "    # n_amenities Column\n",
    "    df = df[(df['n_amenities'] >= df['n_amenities'].quantile(0.005)) & (df['n_amenities'] <= df['n_amenities'].quantile(0.999))]\n",
    "    # n_baths Column\n",
    "    df = df[(df['n_baths'] >= df['n_baths'].quantile(0.0001)) & (df['n_baths'] <= df['n_baths'].quantile(0.9999))]\n",
    "    # n_beds Column\n",
    "    df = df[(df['n_beds'] >= df['n_beds'].quantile(0.01)) & (df['n_beds'] <= df['n_beds'].quantile(0.99))]\n",
    "    # description_len Column\n",
    "    df = df[(df['description_len'] >= df['description_len'].quantile(0.01)) & (df['description_len'] <= df['description_len'].quantile(0.99))]\n",
    "#     # reviews_per_month Column\n",
    "    df = df[df['reviews_per_month'] <= df['reviews_per_month'].quantile(0.99)]\n",
    "\n",
    "    \n",
    "    \n",
    "    # Null Values\n",
    "    df['response_time'][df['response_time'].isnull()] = 'within an hour'\n",
    "    df = df[df['host_profile_pic'].notnull() & df['superhost'].notnull() & df['id_verified'].notnull()]\n",
    "    \n",
    "    \n",
    "    #df['zip_state'] = [i[:3] for i in df['neighbourhood_cleansed']]\n",
    "    #df['zip_region'] = [i[-2:] for i in df['neighbourhood_cleansed']]\n",
    "    \n",
    "    # #Scale Columns\n",
    "    # df['log_reviews_per_month'] = [np.nan if i==np.nan else 0 if i==0 else np.log(i) for i in df['reviews_per_month']]\n",
    "    # df['log_total_reviews'] = [np.nan if i==np.nan else 0 if i==0 else np.log(i) for i in df['total_reviews']]\n",
    "    \n",
    "    df['host_experience_yrs'] = round(2021 - df['host_since'])\n",
    "    #df['reviews_per_month'] = round(df['total_reviews']/(df['host_experience_yrs']*12),2)\n",
    "    #Drop Highly Correlated Features & last min drops\n",
    "    df.drop(columns=['n_reviews_l30d', 'picture_url', 'reviews_rating','host_profile_pic','host_since','response_time','id_verified','multi_listing_host','neighbourhood_cleansed'], inplace=True)\n",
    "    df.dropna(inplace=True)\n",
    "    \n",
    "    df['ppl_per_bed'] = [a/n if n!=0 else a/1 for a,n in zip(df['accommodates'],df['n_beds'])]\n",
    "    \n",
    "    df['superhost'] = df['superhost'].astype(bool)\n",
    "    df['shared_baths'] = df['shared_baths'].astype(bool)\n",
    "    #df['id_verified'] = df['id_verified'].astype(bool)\n",
    "    \n",
    "    df = df[(df['total_reviews']>40) & (df['reviews_per_month']>0.35)]\n",
    "    \n",
    "    return df"
   ]
  },
  {
   "cell_type": "code",
   "execution_count": 1929,
   "metadata": {},
   "outputs": [],
   "source": [
    "Winter_df = wrangle_data('Concat_CSVs/Winter_Data.csv')\n",
    "Spring_df = wrangle_data('Concat_CSVs/Spring_Data.csv')\n",
    "Summer_df = wrangle_data('Concat_CSVs/Summer_Data.csv')\n",
    "Fall_df = wrangle_data('Concat_CSVs/Fall_Data.csv')"
   ]
  },
  {
   "cell_type": "code",
   "execution_count": 1930,
   "metadata": {},
   "outputs": [
    {
     "name": "stdout",
     "output_type": "stream",
     "text": [
      "Spring mean price: $136\n",
      "Summer mean price: $151\n",
      "Fall mean price: $157\n",
      "Winter mean price: $161\n"
     ]
    }
   ],
   "source": [
    "print('Spring mean price:', '$'+str(round(Spring_df['price'].mean())))\n",
    "print('Summer mean price:', '$'+str(round(Summer_df['price'].mean())))\n",
    "print('Fall mean price:', '$'+str(round(Fall_df['price'].mean())))\n",
    "print('Winter mean price:', '$'+str(round(Winter_df['price'].mean())))"
   ]
  },
  {
   "cell_type": "code",
   "execution_count": 1931,
   "metadata": {},
   "outputs": [
    {
     "name": "stdout",
     "output_type": "stream",
     "text": [
      "Spring Data shape: (33703, 20)\n",
      "Summer Data shape: (36077, 20)\n",
      "Fall Data shape: (38396, 20)\n",
      "Winter Data shape: (39806, 20)\n"
     ]
    }
   ],
   "source": [
    "print('Spring Data shape:', Spring_df.shape)\n",
    "print('Summer Data shape:', Summer_df.shape)\n",
    "print('Fall Data shape:', Fall_df.shape)\n",
    "print('Winter Data shape:', Winter_df.shape)"
   ]
  },
  {
   "cell_type": "code",
   "execution_count": 1932,
   "metadata": {},
   "outputs": [
    {
     "data": {
      "text/html": [
       "<div>\n",
       "<style scoped>\n",
       "    .dataframe tbody tr th:only-of-type {\n",
       "        vertical-align: middle;\n",
       "    }\n",
       "\n",
       "    .dataframe tbody tr th {\n",
       "        vertical-align: top;\n",
       "    }\n",
       "\n",
       "    .dataframe thead th {\n",
       "        text-align: right;\n",
       "    }\n",
       "</style>\n",
       "<table border=\"1\" class=\"dataframe\">\n",
       "  <thead>\n",
       "    <tr style=\"text-align: right;\">\n",
       "      <th></th>\n",
       "      <th>lat</th>\n",
       "      <th>lon</th>\n",
       "      <th>room_type</th>\n",
       "      <th>superhost</th>\n",
       "      <th>instant_bookable</th>\n",
       "      <th>description_len</th>\n",
       "      <th>n_amenities</th>\n",
       "      <th>accommodates</th>\n",
       "      <th>n_bedrooms</th>\n",
       "      <th>n_beds</th>\n",
       "      <th>n_baths</th>\n",
       "      <th>shared_baths</th>\n",
       "      <th>min_nights</th>\n",
       "      <th>max_nights</th>\n",
       "      <th>reviews_per_month</th>\n",
       "      <th>total_reviews</th>\n",
       "      <th>total_satisfaction</th>\n",
       "      <th>price</th>\n",
       "      <th>host_experience_yrs</th>\n",
       "      <th>ppl_per_bed</th>\n",
       "    </tr>\n",
       "  </thead>\n",
       "  <tbody>\n",
       "    <tr>\n",
       "      <th>7</th>\n",
       "      <td>37.83234</td>\n",
       "      <td>-122.25101</td>\n",
       "      <td>Entire home/apt</td>\n",
       "      <td>False</td>\n",
       "      <td>False</td>\n",
       "      <td>1000.0</td>\n",
       "      <td>33.0</td>\n",
       "      <td>5</td>\n",
       "      <td>3.0</td>\n",
       "      <td>3.0</td>\n",
       "      <td>1.5</td>\n",
       "      <td>False</td>\n",
       "      <td>30</td>\n",
       "      <td>365</td>\n",
       "      <td>0.99</td>\n",
       "      <td>125</td>\n",
       "      <td>9.2</td>\n",
       "      <td>198.0</td>\n",
       "      <td>11.0</td>\n",
       "      <td>1.666667</td>\n",
       "    </tr>\n",
       "    <tr>\n",
       "      <th>12</th>\n",
       "      <td>37.84211</td>\n",
       "      <td>-122.25203</td>\n",
       "      <td>Entire home/apt</td>\n",
       "      <td>True</td>\n",
       "      <td>False</td>\n",
       "      <td>1000.0</td>\n",
       "      <td>22.0</td>\n",
       "      <td>2</td>\n",
       "      <td>1.0</td>\n",
       "      <td>1.0</td>\n",
       "      <td>1.0</td>\n",
       "      <td>False</td>\n",
       "      <td>3</td>\n",
       "      <td>60</td>\n",
       "      <td>1.90</td>\n",
       "      <td>229</td>\n",
       "      <td>10.0</td>\n",
       "      <td>151.0</td>\n",
       "      <td>10.0</td>\n",
       "      <td>2.000000</td>\n",
       "    </tr>\n",
       "    <tr>\n",
       "      <th>16</th>\n",
       "      <td>37.84419</td>\n",
       "      <td>-122.23405</td>\n",
       "      <td>Entire home/apt</td>\n",
       "      <td>True</td>\n",
       "      <td>True</td>\n",
       "      <td>1000.0</td>\n",
       "      <td>28.0</td>\n",
       "      <td>4</td>\n",
       "      <td>2.0</td>\n",
       "      <td>4.0</td>\n",
       "      <td>1.5</td>\n",
       "      <td>False</td>\n",
       "      <td>3</td>\n",
       "      <td>10</td>\n",
       "      <td>2.29</td>\n",
       "      <td>271</td>\n",
       "      <td>10.0</td>\n",
       "      <td>160.0</td>\n",
       "      <td>10.0</td>\n",
       "      <td>1.000000</td>\n",
       "    </tr>\n",
       "    <tr>\n",
       "      <th>17</th>\n",
       "      <td>37.77847</td>\n",
       "      <td>-122.17615</td>\n",
       "      <td>Entire home/apt</td>\n",
       "      <td>False</td>\n",
       "      <td>False</td>\n",
       "      <td>1000.0</td>\n",
       "      <td>34.0</td>\n",
       "      <td>2</td>\n",
       "      <td>1.0</td>\n",
       "      <td>1.0</td>\n",
       "      <td>1.0</td>\n",
       "      <td>False</td>\n",
       "      <td>2</td>\n",
       "      <td>365</td>\n",
       "      <td>1.65</td>\n",
       "      <td>193</td>\n",
       "      <td>9.8</td>\n",
       "      <td>99.0</td>\n",
       "      <td>10.0</td>\n",
       "      <td>2.000000</td>\n",
       "    </tr>\n",
       "    <tr>\n",
       "      <th>18</th>\n",
       "      <td>37.80732</td>\n",
       "      <td>-122.24293</td>\n",
       "      <td>Private room</td>\n",
       "      <td>True</td>\n",
       "      <td>False</td>\n",
       "      <td>1000.0</td>\n",
       "      <td>33.0</td>\n",
       "      <td>2</td>\n",
       "      <td>1.0</td>\n",
       "      <td>1.0</td>\n",
       "      <td>1.0</td>\n",
       "      <td>False</td>\n",
       "      <td>2</td>\n",
       "      <td>120</td>\n",
       "      <td>2.35</td>\n",
       "      <td>271</td>\n",
       "      <td>9.8</td>\n",
       "      <td>69.0</td>\n",
       "      <td>10.0</td>\n",
       "      <td>2.000000</td>\n",
       "    </tr>\n",
       "  </tbody>\n",
       "</table>\n",
       "</div>"
      ],
      "text/plain": [
       "         lat        lon        room_type  superhost  instant_bookable  \\\n",
       "7   37.83234 -122.25101  Entire home/apt      False             False   \n",
       "12  37.84211 -122.25203  Entire home/apt       True             False   \n",
       "16  37.84419 -122.23405  Entire home/apt       True              True   \n",
       "17  37.77847 -122.17615  Entire home/apt      False             False   \n",
       "18  37.80732 -122.24293     Private room       True             False   \n",
       "\n",
       "    description_len  n_amenities  accommodates  n_bedrooms  n_beds  n_baths  \\\n",
       "7            1000.0         33.0             5         3.0     3.0      1.5   \n",
       "12           1000.0         22.0             2         1.0     1.0      1.0   \n",
       "16           1000.0         28.0             4         2.0     4.0      1.5   \n",
       "17           1000.0         34.0             2         1.0     1.0      1.0   \n",
       "18           1000.0         33.0             2         1.0     1.0      1.0   \n",
       "\n",
       "    shared_baths  min_nights  max_nights  reviews_per_month  total_reviews  \\\n",
       "7          False          30         365               0.99            125   \n",
       "12         False           3          60               1.90            229   \n",
       "16         False           3          10               2.29            271   \n",
       "17         False           2         365               1.65            193   \n",
       "18         False           2         120               2.35            271   \n",
       "\n",
       "    total_satisfaction  price  host_experience_yrs  ppl_per_bed  \n",
       "7                  9.2  198.0                 11.0     1.666667  \n",
       "12                10.0  151.0                 10.0     2.000000  \n",
       "16                10.0  160.0                 10.0     1.000000  \n",
       "17                 9.8   99.0                 10.0     2.000000  \n",
       "18                 9.8   69.0                 10.0     2.000000  "
      ]
     },
     "execution_count": 1932,
     "metadata": {},
     "output_type": "execute_result"
    }
   ],
   "source": [
    "Spring_df.head()"
   ]
  },
  {
   "cell_type": "code",
   "execution_count": 1933,
   "metadata": {},
   "outputs": [],
   "source": [
    "\n",
    "# geolocator = geopy.Nominatim(user_agent='myusername')\n",
    "\n",
    "# def get_zipcode(df, geolocator, lat_field, lon_field):\n",
    "#     location = geolocator.reverse((df[lat_field], df[lon_field]))\n",
    "#     return location.raw['address']['postcode']\n",
    "\n",
    "# zipcodes = Spring_df[['lat','lon']].head(2).apply(get_zipcode, axis=1, geolocator=geolocator, lat_field='lat', lon_field='lon')\n",
    "\n",
    "# zipcodes"
   ]
  },
  {
   "cell_type": "code",
   "execution_count": 1934,
   "metadata": {},
   "outputs": [
    {
     "name": "stdout",
     "output_type": "stream",
     "text": [
      "<class 'pandas.core.frame.DataFrame'>\n",
      "Int64Index: 33703 entries, 7 to 192709\n",
      "Data columns (total 20 columns):\n",
      " #   Column               Non-Null Count  Dtype  \n",
      "---  ------               --------------  -----  \n",
      " 0   lat                  33703 non-null  float64\n",
      " 1   lon                  33703 non-null  float64\n",
      " 2   room_type            33703 non-null  object \n",
      " 3   superhost            33703 non-null  bool   \n",
      " 4   instant_bookable     33703 non-null  bool   \n",
      " 5   description_len      33703 non-null  float64\n",
      " 6   n_amenities          33703 non-null  float64\n",
      " 7   accommodates         33703 non-null  int64  \n",
      " 8   n_bedrooms           33703 non-null  float64\n",
      " 9   n_beds               33703 non-null  float64\n",
      " 10  n_baths              33703 non-null  float64\n",
      " 11  shared_baths         33703 non-null  bool   \n",
      " 12  min_nights           33703 non-null  int64  \n",
      " 13  max_nights           33703 non-null  int64  \n",
      " 14  reviews_per_month    33703 non-null  float64\n",
      " 15  total_reviews        33703 non-null  int64  \n",
      " 16  total_satisfaction   33703 non-null  float64\n",
      " 17  price                33703 non-null  float64\n",
      " 18  host_experience_yrs  33703 non-null  float64\n",
      " 19  ppl_per_bed          33703 non-null  float64\n",
      "dtypes: bool(3), float64(12), int64(4), object(1)\n",
      "memory usage: 4.7+ MB\n"
     ]
    }
   ],
   "source": [
    "Spring_df.info()"
   ]
  },
  {
   "cell_type": "code",
   "execution_count": 1935,
   "metadata": {},
   "outputs": [
    {
     "data": {
      "text/html": [
       "<div>\n",
       "<style scoped>\n",
       "    .dataframe tbody tr th:only-of-type {\n",
       "        vertical-align: middle;\n",
       "    }\n",
       "\n",
       "    .dataframe tbody tr th {\n",
       "        vertical-align: top;\n",
       "    }\n",
       "\n",
       "    .dataframe thead th {\n",
       "        text-align: right;\n",
       "    }\n",
       "</style>\n",
       "<table border=\"1\" class=\"dataframe\">\n",
       "  <thead>\n",
       "    <tr style=\"text-align: right;\">\n",
       "      <th></th>\n",
       "      <th>lat</th>\n",
       "      <th>lon</th>\n",
       "      <th>description_len</th>\n",
       "      <th>n_amenities</th>\n",
       "      <th>accommodates</th>\n",
       "      <th>n_bedrooms</th>\n",
       "      <th>n_beds</th>\n",
       "      <th>n_baths</th>\n",
       "      <th>min_nights</th>\n",
       "      <th>max_nights</th>\n",
       "      <th>reviews_per_month</th>\n",
       "      <th>total_reviews</th>\n",
       "      <th>total_satisfaction</th>\n",
       "      <th>price</th>\n",
       "      <th>host_experience_yrs</th>\n",
       "      <th>ppl_per_bed</th>\n",
       "    </tr>\n",
       "  </thead>\n",
       "  <tbody>\n",
       "    <tr>\n",
       "      <th>count</th>\n",
       "      <td>33703.000000</td>\n",
       "      <td>33703.000000</td>\n",
       "      <td>33703.000000</td>\n",
       "      <td>33703.000000</td>\n",
       "      <td>33703.000000</td>\n",
       "      <td>33703.000000</td>\n",
       "      <td>33703.000000</td>\n",
       "      <td>33703.000000</td>\n",
       "      <td>33703.000000</td>\n",
       "      <td>33703.000000</td>\n",
       "      <td>33703.000000</td>\n",
       "      <td>33703.000000</td>\n",
       "      <td>33703.000000</td>\n",
       "      <td>33703.000000</td>\n",
       "      <td>33703.000000</td>\n",
       "      <td>33703.000000</td>\n",
       "    </tr>\n",
       "    <tr>\n",
       "      <th>mean</th>\n",
       "      <td>35.729955</td>\n",
       "      <td>-105.275130</td>\n",
       "      <td>901.328250</td>\n",
       "      <td>31.468801</td>\n",
       "      <td>3.956413</td>\n",
       "      <td>1.549120</td>\n",
       "      <td>2.071774</td>\n",
       "      <td>1.267632</td>\n",
       "      <td>7.923034</td>\n",
       "      <td>567.316648</td>\n",
       "      <td>2.562091</td>\n",
       "      <td>115.933062</td>\n",
       "      <td>9.833433</td>\n",
       "      <td>136.077233</td>\n",
       "      <td>6.184731</td>\n",
       "      <td>2.044687</td>\n",
       "    </tr>\n",
       "    <tr>\n",
       "      <th>std</th>\n",
       "      <td>6.778708</td>\n",
       "      <td>24.810508</td>\n",
       "      <td>201.218852</td>\n",
       "      <td>8.807944</td>\n",
       "      <td>2.198228</td>\n",
       "      <td>0.819044</td>\n",
       "      <td>1.295668</td>\n",
       "      <td>0.538665</td>\n",
       "      <td>12.207482</td>\n",
       "      <td>520.043700</td>\n",
       "      <td>1.452175</td>\n",
       "      <td>80.930837</td>\n",
       "      <td>0.269354</td>\n",
       "      <td>72.480563</td>\n",
       "      <td>2.267259</td>\n",
       "      <td>0.735833</td>\n",
       "    </tr>\n",
       "    <tr>\n",
       "      <th>min</th>\n",
       "      <td>18.982690</td>\n",
       "      <td>-159.711430</td>\n",
       "      <td>85.000000</td>\n",
       "      <td>6.000000</td>\n",
       "      <td>1.000000</td>\n",
       "      <td>1.000000</td>\n",
       "      <td>0.000000</td>\n",
       "      <td>0.000000</td>\n",
       "      <td>1.000000</td>\n",
       "      <td>2.000000</td>\n",
       "      <td>0.360000</td>\n",
       "      <td>41.000000</td>\n",
       "      <td>7.800000</td>\n",
       "      <td>50.000000</td>\n",
       "      <td>0.000000</td>\n",
       "      <td>0.142857</td>\n",
       "    </tr>\n",
       "    <tr>\n",
       "      <th>25%</th>\n",
       "      <td>32.744400</td>\n",
       "      <td>-122.026185</td>\n",
       "      <td>941.000000</td>\n",
       "      <td>26.000000</td>\n",
       "      <td>2.000000</td>\n",
       "      <td>1.000000</td>\n",
       "      <td>1.000000</td>\n",
       "      <td>1.000000</td>\n",
       "      <td>1.000000</td>\n",
       "      <td>30.000000</td>\n",
       "      <td>1.450000</td>\n",
       "      <td>59.000000</td>\n",
       "      <td>9.800000</td>\n",
       "      <td>82.000000</td>\n",
       "      <td>5.000000</td>\n",
       "      <td>1.666667</td>\n",
       "    </tr>\n",
       "    <tr>\n",
       "      <th>50%</th>\n",
       "      <td>36.964450</td>\n",
       "      <td>-115.186600</td>\n",
       "      <td>1000.000000</td>\n",
       "      <td>31.000000</td>\n",
       "      <td>4.000000</td>\n",
       "      <td>1.000000</td>\n",
       "      <td>2.000000</td>\n",
       "      <td>1.000000</td>\n",
       "      <td>2.000000</td>\n",
       "      <td>365.000000</td>\n",
       "      <td>2.250000</td>\n",
       "      <td>89.000000</td>\n",
       "      <td>10.000000</td>\n",
       "      <td>116.000000</td>\n",
       "      <td>6.000000</td>\n",
       "      <td>2.000000</td>\n",
       "    </tr>\n",
       "    <tr>\n",
       "      <th>75%</th>\n",
       "      <td>40.713730</td>\n",
       "      <td>-80.180365</td>\n",
       "      <td>1000.000000</td>\n",
       "      <td>37.000000</td>\n",
       "      <td>5.000000</td>\n",
       "      <td>2.000000</td>\n",
       "      <td>3.000000</td>\n",
       "      <td>1.500000</td>\n",
       "      <td>4.000000</td>\n",
       "      <td>1125.000000</td>\n",
       "      <td>3.350000</td>\n",
       "      <td>144.000000</td>\n",
       "      <td>10.000000</td>\n",
       "      <td>170.000000</td>\n",
       "      <td>8.000000</td>\n",
       "      <td>2.000000</td>\n",
       "    </tr>\n",
       "    <tr>\n",
       "      <th>max</th>\n",
       "      <td>47.733320</td>\n",
       "      <td>-70.997010</td>\n",
       "      <td>1000.000000</td>\n",
       "      <td>67.000000</td>\n",
       "      <td>16.000000</td>\n",
       "      <td>9.000000</td>\n",
       "      <td>7.000000</td>\n",
       "      <td>10.000000</td>\n",
       "      <td>91.000000</td>\n",
       "      <td>1125.000000</td>\n",
       "      <td>7.500000</td>\n",
       "      <td>839.000000</td>\n",
       "      <td>10.000000</td>\n",
       "      <td>395.000000</td>\n",
       "      <td>13.000000</td>\n",
       "      <td>12.000000</td>\n",
       "    </tr>\n",
       "  </tbody>\n",
       "</table>\n",
       "</div>"
      ],
      "text/plain": [
       "                lat           lon  description_len   n_amenities  \\\n",
       "count  33703.000000  33703.000000     33703.000000  33703.000000   \n",
       "mean      35.729955   -105.275130       901.328250     31.468801   \n",
       "std        6.778708     24.810508       201.218852      8.807944   \n",
       "min       18.982690   -159.711430        85.000000      6.000000   \n",
       "25%       32.744400   -122.026185       941.000000     26.000000   \n",
       "50%       36.964450   -115.186600      1000.000000     31.000000   \n",
       "75%       40.713730    -80.180365      1000.000000     37.000000   \n",
       "max       47.733320    -70.997010      1000.000000     67.000000   \n",
       "\n",
       "       accommodates    n_bedrooms        n_beds       n_baths    min_nights  \\\n",
       "count  33703.000000  33703.000000  33703.000000  33703.000000  33703.000000   \n",
       "mean       3.956413      1.549120      2.071774      1.267632      7.923034   \n",
       "std        2.198228      0.819044      1.295668      0.538665     12.207482   \n",
       "min        1.000000      1.000000      0.000000      0.000000      1.000000   \n",
       "25%        2.000000      1.000000      1.000000      1.000000      1.000000   \n",
       "50%        4.000000      1.000000      2.000000      1.000000      2.000000   \n",
       "75%        5.000000      2.000000      3.000000      1.500000      4.000000   \n",
       "max       16.000000      9.000000      7.000000     10.000000     91.000000   \n",
       "\n",
       "         max_nights  reviews_per_month  total_reviews  total_satisfaction  \\\n",
       "count  33703.000000       33703.000000   33703.000000        33703.000000   \n",
       "mean     567.316648           2.562091     115.933062            9.833433   \n",
       "std      520.043700           1.452175      80.930837            0.269354   \n",
       "min        2.000000           0.360000      41.000000            7.800000   \n",
       "25%       30.000000           1.450000      59.000000            9.800000   \n",
       "50%      365.000000           2.250000      89.000000           10.000000   \n",
       "75%     1125.000000           3.350000     144.000000           10.000000   \n",
       "max     1125.000000           7.500000     839.000000           10.000000   \n",
       "\n",
       "              price  host_experience_yrs   ppl_per_bed  \n",
       "count  33703.000000         33703.000000  33703.000000  \n",
       "mean     136.077233             6.184731      2.044687  \n",
       "std       72.480563             2.267259      0.735833  \n",
       "min       50.000000             0.000000      0.142857  \n",
       "25%       82.000000             5.000000      1.666667  \n",
       "50%      116.000000             6.000000      2.000000  \n",
       "75%      170.000000             8.000000      2.000000  \n",
       "max      395.000000            13.000000     12.000000  "
      ]
     },
     "execution_count": 1935,
     "metadata": {},
     "output_type": "execute_result"
    }
   ],
   "source": [
    "Spring_df.describe()"
   ]
  },
  {
   "cell_type": "markdown",
   "metadata": {},
   "source": [
    "# **Select Target ( X,y = FM,TV )**"
   ]
  },
  {
   "cell_type": "code",
   "execution_count": 1936,
   "metadata": {},
   "outputs": [],
   "source": [
    "X_Spring = Spring_df.drop(columns=['price'])\n",
    "y_Spring = Spring_df['price']\n",
    "\n",
    "X_Summer = Summer_df.drop(columns=['price'])\n",
    "y_Summer = Summer_df['price']\n",
    "\n",
    "X_Fall = Fall_df.drop(columns=['price'])\n",
    "y_Fall = Fall_df['price']\n",
    "\n",
    "X_Winter = Winter_df.drop(columns=['price'])\n",
    "y_Winter = Winter_df['price']"
   ]
  },
  {
   "cell_type": "code",
   "execution_count": 1937,
   "metadata": {},
   "outputs": [
    {
     "data": {
      "text/plain": [
       "Text(0.5, 1.0, 'Features Correlation Spring Data')"
      ]
     },
     "execution_count": 1937,
     "metadata": {},
     "output_type": "execute_result"
    },
    {
     "data": {
      "image/png": "[encoded data removed]",
      "text/plain": [
       "<Figure size 1440x576 with 2 Axes>"
      ]
     },
     "metadata": {
      "needs_background": "light"
     },
     "output_type": "display_data"
    }
   ],
   "source": [
    "plt.figure(figsize=(20,8))\n",
    "sns.heatmap(X_Spring.corr(), annot=True, cmap=\"Blues_r\")\n",
    "plt.title('Features Correlation Spring Data')"
   ]
  },
  {
   "cell_type": "code",
   "execution_count": 1938,
   "metadata": {},
   "outputs": [
    {
     "data": {
      "text/plain": [
       "Text(0.5, 1.0, 'Scaled Feature (reviews_per_month) Spring Data')"
      ]
     },
     "execution_count": 1938,
     "metadata": {},
     "output_type": "execute_result"
    },
    {
     "data": {
      "text/plain": [
       "<Figure size 1440x576 with 0 Axes>"
      ]
     },
     "metadata": {},
     "output_type": "display_data"
    },
    {
     "data": {
      "image/png": "[encoded data removed]",
      "text/plain": [
       "<Figure size 432x288 with 1 Axes>"
      ]
     },
     "metadata": {
      "needs_background": "light"
     },
     "output_type": "display_data"
    }
   ],
   "source": [
    "plt.figure(figsize=(20,8))\n",
    "Spring_df.hist('reviews_per_month', log = True)  #(X.corr(), annot=True, cmap=\"Blues_r\")\n",
    "plt.title('Scaled Feature (reviews_per_month) Spring Data')"
   ]
  },
  {
   "cell_type": "code",
   "execution_count": 1939,
   "metadata": {},
   "outputs": [
    {
     "data": {
      "text/plain": [
       "Text(0.5, 1.0, 'Scaled Feature (total_reviews) Spring Data')"
      ]
     },
     "execution_count": 1939,
     "metadata": {},
     "output_type": "execute_result"
    },
    {
     "data": {
      "text/plain": [
       "<Figure size 1440x576 with 0 Axes>"
      ]
     },
     "metadata": {},
     "output_type": "display_data"
    },
    {
     "data": {
      "image/png": "[encoded data removed]",
      "text/plain": [
       "<Figure size 432x288 with 1 Axes>"
      ]
     },
     "metadata": {
      "needs_background": "light"
     },
     "output_type": "display_data"
    }
   ],
   "source": [
    "plt.figure(figsize=(20,8))\n",
    "Spring_df.hist('reviews_per_month', log = True)  #(X.corr(), annot=True, cmap=\"Blues_r\")\n",
    "plt.title('Scaled Feature (total_reviews) Spring Data')"
   ]
  },
  {
   "cell_type": "markdown",
   "metadata": {},
   "source": [
    "# **Split Data**"
   ]
  },
  {
   "cell_type": "code",
   "execution_count": 1940,
   "metadata": {},
   "outputs": [],
   "source": [
    "# X_train1, X_test1, y_train1, y_test1 = train_test_split(X_Spring, y_Spring, test_size=0.20, random_state=42) # Spring Data\n",
    "# X_train2, X_test2, y_train2, y_test2 = train_test_split(X_Summer, y_Summer, test_size=0.20, random_state=42) # Summer Data\n",
    "# X_train3, X_test3, y_train3, y_test3 = train_test_split(X_Fall, y_Fall, test_size=0.20, random_state=42)     # Fall Data\n",
    "# X_train4, X_test4, y_train4, y_test4 = train_test_split(X_Winter, y_Winter, test_size=0.20, random_state=42) # Winter Data"
   ]
  },
  {
   "cell_type": "code",
   "execution_count": 1941,
   "metadata": {},
   "outputs": [],
   "source": [
    "# X_train1.shape, X_test1.shape, y_train1.shape, y_test1.shape"
   ]
  },
  {
   "cell_type": "markdown",
   "metadata": {},
   "source": [
    "# **SET BASELINE**"
   ]
  },
  {
   "cell_type": "code",
   "execution_count": 1942,
   "metadata": {},
   "outputs": [
    {
     "name": "stdout",
     "output_type": "stream",
     "text": [
      "Spring Data Baseline (MAE):  56.37218930339543\n",
      "Summer Data Baseline (MAE):  63.586171669638645\n",
      "Fall Data Baseline (MAE):  64.96574865487659\n",
      "Winter Data Baseline (MAE):  68.05825007302096\n"
     ]
    }
   ],
   "source": [
    "y_pred1 = [y_Spring.mean()] * len(y_Spring)\n",
    "y_pred2 = [y_Summer.mean()] * len(y_Summer)\n",
    "y_pred3 = [y_Fall.mean()] * len(y_Fall)\n",
    "y_pred4 = [y_Winter.mean()] * len(y_Winter)\n",
    "\n",
    "print('Spring Data Baseline (MAE): ',mean_absolute_error(y_Spring,y_pred1))\n",
    "print('Summer Data Baseline (MAE): ',mean_absolute_error(y_Summer,y_pred2))\n",
    "print('Fall Data Baseline (MAE): ',mean_absolute_error(y_Fall,y_pred3))\n",
    "print('Winter Data Baseline (MAE): ',mean_absolute_error(y_Winter,y_pred4))"
   ]
  },
  {
   "cell_type": "markdown",
   "metadata": {},
   "source": [
    "# **Models Pipeline**"
   ]
  },
  {
   "cell_type": "code",
   "execution_count": 1943,
   "metadata": {},
   "outputs": [],
   "source": [
    "model_rfr1 = make_pipeline(\n",
    "    OneHotEncoder(),\n",
    "    SimpleImputer(strategy='median'),\n",
    "    StandardScaler(),\n",
    "    RandomForestRegressor(n_jobs=-1, random_state=42))\n",
    "\n",
    "model_rfr2 = make_pipeline(\n",
    "    OneHotEncoder(),\n",
    "    SimpleImputer(strategy='median'),\n",
    "    StandardScaler(),\n",
    "    RandomForestRegressor(n_jobs=-1, random_state=42))\n",
    "\n",
    "model_rfr3 = make_pipeline(\n",
    "    OneHotEncoder(),\n",
    "    SimpleImputer(strategy='median'),\n",
    "    StandardScaler(),\n",
    "    RandomForestRegressor(n_jobs=-1, random_state=42))\n",
    "\n",
    "model_rfr4 = make_pipeline(\n",
    "    OneHotEncoder(),\n",
    "    SimpleImputer(strategy='median'),\n",
    "    StandardScaler(),\n",
    "    RandomForestRegressor(n_jobs=-1, random_state=42))"
   ]
  },
  {
   "cell_type": "markdown",
   "metadata": {},
   "source": [
    "# **Fitting Models**"
   ]
  },
  {
   "cell_type": "code",
   "execution_count": 1944,
   "metadata": {},
   "outputs": [],
   "source": [
    "#model_rfr1.fit(X_train1,y_train1);\n",
    "# model_rfr2.fit(X_train2,y_train2);\n",
    "# model_rfr3.fit(X_train3,y_train3);\n",
    "# model_rfr4.fit(X_train4,y_train4);"
   ]
  },
  {
   "cell_type": "markdown",
   "metadata": {},
   "source": [
    "# **Checking and Comparing Metrics**"
   ]
  },
  {
   "cell_type": "code",
   "execution_count": 1945,
   "metadata": {},
   "outputs": [],
   "source": [
    "# def check_metrics(model_list, model_names, X_train_list, X_test_list, y_train_list, y_test_list):\n",
    "#   # print each model results\n",
    "#     for model, name, X_train, X_test, y_train, y_test in zip(model_list, model_names, X_train_list, X_test_list, y_train_list, y_test_list):\n",
    "#       print(name)\n",
    "#       print('Training MAE:', mean_absolute_error(y_train, model.predict(X_train)))\n",
    "#       print('Test MAE:', mean_absolute_error(y_test, model.predict(X_test)))\n",
    "#       print('Test R^2:', model.score(X_test, y_test))\n",
    "#       print()\n",
    "#       print()\n",
    "\n",
    "# models = [model_rfr1,model_rfr2,model_rfr3,model_rfr4]\n",
    "# models_names = ['RandomForestRegressor Spring:','RandomForestRegressor Summer:','RandomForestRegressor Fall:','RandomForestRegressor Winter:']\n",
    "# X_train_data = [X_train1, X_train2, X_train3, X_train4] \n",
    "# y_train_data = [y_train1, y_train2, y_train3, y_train4] \n",
    "# X_test_data = [X_test1, X_test2, X_test3, X_test4]\n",
    "# y_test_data = [y_test1, y_test2, y_test3, y_test4]\n",
    "\n",
    "\n",
    "# check_metrics(models, models_names, X_train_data, X_test_data, y_train_data, y_test_data)"
   ]
  },
  {
   "cell_type": "code",
   "execution_count": 1946,
   "metadata": {},
   "outputs": [],
   "source": [
    "# importance_df['abs'] = [abs(i) for i in importance_df[0]]\n",
    "# importance_df.sort_values(by='abs',ascending=False).head(10)"
   ]
  },
  {
   "cell_type": "code",
   "execution_count": 1947,
   "metadata": {},
   "outputs": [],
   "source": [
    "# y_pred_train = model_la.predict(X_train_processed)\n",
    "# diff = y_train - y_pred_train\n",
    "# plt.figure(figsize=(14,10))\n",
    "# plt.scatter(np.arange(len(diff)),diff);"
   ]
  },
  {
   "cell_type": "code",
   "execution_count": 1948,
   "metadata": {},
   "outputs": [],
   "source": [
    "# def check_metrics(model):\n",
    "#   #print(model)\n",
    "#   print('Training MAE:', mean_absolute_error(y_train, model.predict(X_train)))\n",
    "#   print('Test MAE:', mean_absolute_error(y_test, model.predict(X_test)))\n",
    "#   print('Test R^2:', model.score(X_test, y_test))\n",
    "#   print()\n",
    "#   print()\n",
    "\n",
    "# models = [model_lr, model_rd, model_rfr, model_xgb]\n",
    "# models_name = ['LinearRegression:','Ridge:','RandomForestRegressor','XGBRegressor:']\n",
    "# for i in range(4):\n",
    "#   print(models_name[i])\n",
    "#   check_metrics(models[i])\n",
    "    \n",
    "# LinearRegression:\n",
    "# Training MAE: 75.11048377427583\n",
    "# Test MAE: 74.0995566954852\n",
    "# Test R^2: 0.43788657500640593\n",
    "\n",
    "\n",
    "# Ridge:\n",
    "# Training MAE: 75.1104311013773\n",
    "# Test MAE: 74.09950469620095\n",
    "# Test R^2: 0.4378865254712687\n",
    "\n",
    "\n",
    "# RandomForestRegressor\n",
    "# Training MAE: 19.63839671554341\n",
    "# Test MAE: 52.93756419855532\n",
    "# Test R^2: 0.6586319303160858\n",
    "\n",
    "\n",
    "# XGBRegressor:\n",
    "# Training MAE: 51.04689117492001\n",
    "# Test MAE: 55.166844811515766\n",
    "# Test R^2: 0.6447322467459573"
   ]
  },
  {
   "cell_type": "code",
   "execution_count": 1949,
   "metadata": {},
   "outputs": [],
   "source": [
    "# # Lists to Plot Models\n",
    "# models = [model_lr, model_rd, model_rfr, model_xgb]\n",
    "# models_type = ['Linear', 'Ridge', 'RForest', 'XGB']\n",
    "# Training_MAEs = []\n",
    "# Test_MAEs = []\n",
    "# models_R2s = []\n",
    "\n",
    "# def listing_metrics(model):\n",
    "#   # Fill lists to plot and compare models\n",
    "#   Training_MAEs.append(mean_absolute_error(y_train, model.predict(X_train)))\n",
    "#   Test_MAEs.append(mean_absolute_error(y_test, model.predict(X_test)))\n",
    "#   models_R2s.append(model.score(X_test, y_test))\n",
    "\n",
    "# for m in models:\n",
    "#   listing_metrics(m)"
   ]
  },
  {
   "cell_type": "code",
   "execution_count": 1950,
   "metadata": {},
   "outputs": [],
   "source": [
    "# # Plot Models MAEs\n",
    "# w = 0.4\n",
    "# bar1 = np.arange(len(models_type))\n",
    "# bar2 = [i + w for i in bar1]\n",
    "\n",
    "\n",
    "# plt.figure(figsize=(9,5.5))\n",
    "# plt.bar(bar1, Training_MAEs, w, label='Training MAE')\n",
    "# plt.bar(bar2, Test_MAEs, w, label='Test MAE')\n",
    "\n",
    "# plt.xlabel('Models')\n",
    "# plt.ylabel('Mean Absolute Error')\n",
    "# plt.xticks(bar1+(w/2), models_type)\n",
    "# plt.legend()\n",
    "# plt.title('Models MAE (Train-Test Data)')\n",
    "\n",
    "# plt.show()"
   ]
  },
  {
   "cell_type": "code",
   "execution_count": 1951,
   "metadata": {},
   "outputs": [],
   "source": [
    "# # Plot Models R^2s\n",
    "# w = 0.4\n",
    "# bar1 = np.arange(len(models_type))\n",
    "\n",
    "# plt.figure(figsize=(5,5.5))\n",
    "# plt.bar(bar1, models_R2s, w, label='R^2')\n",
    "\n",
    "# plt.xlabel('Models')\n",
    "# plt.ylabel('R-Square Values')\n",
    "# plt.xticks(bar1, models_type)\n",
    "# plt.legend()\n",
    "# plt.title('Models R2 (Test-Data)')\n",
    "\n",
    "# plt.show()"
   ]
  },
  {
   "cell_type": "markdown",
   "metadata": {},
   "source": [
    "# **Tunning Random Forest Regressor**"
   ]
  },
  {
   "cell_type": "code",
   "execution_count": 1952,
   "metadata": {},
   "outputs": [
    {
     "name": "stdout",
     "output_type": "stream",
     "text": [
      "Fitting 10 folds for each of 1 candidates, totalling 10 fits\n",
      "Fitting 10 folds for each of 1 candidates, totalling 10 fits\n",
      "Fitting 10 folds for each of 1 candidates, totalling 10 fits\n",
      "Fitting 10 folds for each of 1 candidates, totalling 10 fits\n",
      "CPU times: total: 2min 34s\n",
      "Wall time: 2min 6s\n"
     ]
    },
    {
     "data": {
      "text/plain": [
       "GridSearchCV(cv=10,\n",
       "             estimator=Pipeline(steps=[('onehotencoder',\n",
       "                                        OneHotEncoder(cols=['room_type'])),\n",
       "                                       ('simpleimputer',\n",
       "                                        SimpleImputer(strategy='median')),\n",
       "                                       ('standardscaler', StandardScaler()),\n",
       "                                       ('randomforestregressor',\n",
       "                                        RandomForestRegressor(n_jobs=-1,\n",
       "                                                              random_state=42))]),\n",
       "             param_grid={'randomforestregressor__bootstrap': [True],\n",
       "                         'randomforestregressor__max_depth': [None],\n",
       "                         'randomforestregressor__max_features': ['log2'],\n",
       "                         'randomforestregressor__max_samples': [None],\n",
       "                         'randomforestregressor__min_samples_leaf': [1],\n",
       "                         'randomforestregressor__min_samples_split': range(2, 3),\n",
       "                         'randomforestregressor__n_estimators': range(105, 106)},\n",
       "             verbose=1)"
      ]
     },
     "execution_count": 1952,
     "metadata": {},
     "output_type": "execute_result"
    }
   ],
   "source": [
    "%%time\n",
    "param_grid = {\"randomforestregressor__n_estimators\": range(105,106),\n",
    "              \"randomforestregressor__min_samples_split\": range(2,3),\n",
    "              \"randomforestregressor__min_samples_leaf\": [1],\n",
    "              \"randomforestregressor__max_samples\":  [None],\n",
    "              \"randomforestregressor__max_features\":['log2'],\n",
    "              \"randomforestregressor__max_depth\": [None],#range(27,32),  \n",
    "              \"randomforestregressor__bootstrap\": [True]\n",
    "              \n",
    "             }\n",
    "\n",
    "\n",
    "model_rfr_search1 = GridSearchCV(model_rfr, param_grid= param_grid, cv=10, verbose=1)\n",
    "model_rfr_search2 = GridSearchCV(model_rfr, param_grid= param_grid, cv=10, verbose=1)\n",
    "model_rfr_search3 = GridSearchCV(model_rfr, param_grid= param_grid, cv=10, verbose=1)\n",
    "model_rfr_search4 = GridSearchCV(model_rfr, param_grid= param_grid, cv=10, verbose=1)\n",
    "\n",
    "# Fit it to the data\n",
    "model_rfr_search1.fit(X_Spring, y_Spring);\n",
    "model_rfr_search2.fit(X_Summer, y_Summer);\n",
    "model_rfr_search3.fit(X_Fall, y_Fall);\n",
    "model_rfr_search4.fit(X_Winter, y_Winter);"
   ]
  },
  {
   "cell_type": "code",
   "execution_count": 1953,
   "metadata": {},
   "outputs": [],
   "source": [
    "#model_rfr_search.best_params_"
   ]
  },
  {
   "cell_type": "code",
   "execution_count": 1960,
   "metadata": {},
   "outputs": [
    {
     "name": "stdout",
     "output_type": "stream",
     "text": [
      "ModelSpring\n",
      "Training MAE: 12.946564300373362\n",
      "Test MAE: 12.814512000715828\n",
      "Test R^2: 0.9393268866860071\n",
      "\n",
      "\n",
      "ModelSummer\n",
      "Training MAE: 14.354514616583154\n",
      "Test MAE: 14.020025824446556\n",
      "Test R^2: 0.941747919906727\n",
      "\n",
      "\n",
      "ModelFall\n",
      "Training MAE: 14.661181391426215\n",
      "Test MAE: 14.618241980820105\n",
      "Test R^2: 0.9405215682554102\n",
      "\n",
      "\n",
      "ModelWinter\n",
      "Training MAE: 14.928769417577358\n",
      "Test MAE: 15.345949410493494\n",
      "Test R^2: 0.9401690129643316\n",
      "\n",
      "\n"
     ]
    }
   ],
   "source": [
    "models = [model_rfr_search1, model_rfr_search2, model_rfr_search3, model_rfr_search4]\n",
    "models_names = ['ModelSpring','ModelSummer','ModelFall','ModelWinter']\n",
    "\n",
    "check_metrics(models, models_names, X_train_data, X_test_data, y_train_data, y_test_data)\n",
    "\n",
    "# print('Test MAE:', mean_absolute_error(y_test1, model_rfr_search1.predict(X_test1)))\n",
    "# print('Test R^2:', model_rfr_search.score(X_test1,y_test1))\n"
   ]
  },
  {
   "cell_type": "code",
   "execution_count": 1955,
   "metadata": {},
   "outputs": [],
   "source": [
    "# importances = model_rfr_search.best_estimator_.named_steps.randomforestregressor.feature_importances_\n",
    "# features = model_rfr_search.best_estimator_.named_steps.onehotencoder.feature_names\n",
    "\n",
    "# imp_df = pd.DataFrame(importances, index=features)\n",
    "# imp_df.columns = ['Importances']\n",
    "\n",
    "# imp_df.sort_values(by='Importances', ascending=False).head(50)"
   ]
  },
  {
   "cell_type": "code",
   "execution_count": 1962,
   "metadata": {},
   "outputs": [],
   "source": [
    "# save the models\n",
    "import pickle\n",
    "\n",
    "for model,name in zip(models, models_names):\n",
    "    \n",
    "    pickle.dump(model, open(name+'.pkl', \"wb\"))\n",
    "\n",
    "# # load the models\n",
    "# model = pickle.load(open(\"model.pkl\", \"rb\"))\n",
    "\n",
    "# # use model to predict\n",
    "# y_pred = model.predict(X_input)"
   ]
  },
  {
   "cell_type": "code",
   "execution_count": 1956,
   "metadata": {},
   "outputs": [],
   "source": [
    "# param_grid = {\"ridge__alpha\": [1000,100,50,20,10,1,0.1,0.01],\n",
    "#               \"ridge__fit_intercept\": [True,False]\n",
    "#              }\n",
    "\n",
    "# model_rd_search = GridSearchCV(\n",
    "#     model_rd,\n",
    "#     param_grid = param_grid,\n",
    "#     cv=5,\n",
    "#     verbose=1# status updates\n",
    "# )\n",
    "\n",
    "# # Fit it to the data\n",
    "# model_rd_search.fit(X, y);"
   ]
  },
  {
   "cell_type": "code",
   "execution_count": 1957,
   "metadata": {},
   "outputs": [],
   "source": [
    "# model_rd_search.best_params_"
   ]
  },
  {
   "cell_type": "code",
   "execution_count": 1958,
   "metadata": {},
   "outputs": [],
   "source": [
    "# check_metrics(model_rd_search)\n",
    "\n",
    "# print('Test MAE:', mean_absolute_error(y_test, model_rd_search.predict(X_test)))\n",
    "# print('Test R^2:', model_rd_search.score(X_test,y_test))"
   ]
  }
 ],
 "metadata": {
  "kernelspec": {
   "display_name": "Airbnb-Project (Python3)",
   "language": "python",
   "name": "build_week_airbnb"
  },
  "language_info": {
   "codemirror_mode": {
    "name": "ipython",
    "version": 3
   },
   "file_extension": ".py",
   "mimetype": "text/x-python",
   "name": "python",
   "nbconvert_exporter": "python",
   "pygments_lexer": "ipython3",
   "version": "3.10.1"
  }
 },
 "nbformat": 4,
 "nbformat_minor": 4
}
