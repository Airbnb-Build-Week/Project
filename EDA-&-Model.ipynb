{
 "cells": [
  {
   "cell_type": "code",
   "execution_count": 1,
   "metadata": {},
   "outputs": [
    {
     "name": "stderr",
     "output_type": "stream",
     "text": [
      "C:\\Users\\GPARR\\.virtualenvs\\Build_week_Airbnb-vpv41VED\\lib\\site-packages\\xgboost\\compat.py:36: FutureWarning: pandas.Int64Index is deprecated and will be removed from pandas in a future version. Use pandas.Index with the appropriate dtype instead.\n",
      "  from pandas import MultiIndex, Int64Index\n"
     ]
    }
   ],
   "source": [
    "# Basics\n",
    "import pandas as pd\n",
    "import numpy as np\n",
    "import os\n",
    "import geopy\n",
    "\n",
    "# Visualizations\n",
    "import seaborn as sns\n",
    "import matplotlib.pyplot as plt\n",
    "#import plotly.express as px\n",
    "\n",
    "# Regression Models\n",
    "from sklearn.linear_model import LinearRegression, Ridge\n",
    "from xgboost import XGBRegressor\n",
    "from sklearn.ensemble import RandomForestRegressor\n",
    "\n",
    "# Pipeline \n",
    "from sklearn.pipeline import make_pipeline\n",
    "from category_encoders import OneHotEncoder, OrdinalEncoder\n",
    "from sklearn.impute import SimpleImputer\n",
    "from sklearn.preprocessing import StandardScaler \n",
    "\n",
    "# Split\n",
    "from sklearn.model_selection import train_test_split\n",
    "\n",
    "# Baseline\n",
    "from sklearn.metrics import mean_absolute_error\n",
    "# Tunning\n",
    "from sklearn.model_selection import GridSearchCV, RandomizedSearchCV"
   ]
  },
  {
   "cell_type": "code",
   "execution_count": 4,
   "metadata": {},
   "outputs": [],
   "source": [
    "pd.set_option('display.max_columns', None)"
   ]
  },
  {
   "cell_type": "code",
   "execution_count": 6,
   "metadata": {},
   "outputs": [],
   "source": [
    "#           ### CONCAT FILES IN CSVs FOLDER ###\n",
    "\n",
    "# files = [file_path for file_path in os.listdir('Seasons Data/Spring') if file_path.endswith('.csv')]\n",
    "\n",
    "# df = pd.read_csv(os.path.join('Seasons Data/Spring', files[0]))\n",
    "\n",
    "# for csv_path in files[1:]:\n",
    "#     df_to_add = pd.read_csv(os.path.join('Seasons Data/Spring', csv_path))\n",
    "#     df = pd.concat([df,df_to_add])\n",
    "    \n",
    "    \n",
    "# #df.reset_index(drop=True, inplace=True)\n",
    "\n",
    "# df.to_csv('Spring_Data.csv')"
   ]
  },
  {
   "cell_type": "code",
   "execution_count": 473,
   "metadata": {},
   "outputs": [],
   "source": [
    "COLS = ['review_scores_accuracy','review_scores_location','review_scores_cleanliness','review_scores_checkin','review_scores_communication',\n",
    "        'neighbourhood_cleansed','picture_url','description','has_availability','host_since','host_response_time','host_is_superhost', 'host_listings_count',\n",
    "        'host_has_profile_pic', 'host_identity_verified', 'latitude','longitude', 'room_type', 'accommodates','bathrooms_text', 'bedrooms', 'beds', 'amenities',\n",
    "        'price','minimum_nights', 'maximum_nights', 'number_of_reviews', 'number_of_reviews_l30d',\n",
    "        'review_scores_rating', 'instant_bookable','reviews_per_month']\n",
    "\n",
    "\n",
    "\n",
    "\n",
    "\n",
    "\n",
    "\n",
    "\n",
    "\n",
    "def wrangle_data(PATH):\n",
    "    df = pd.read_csv(PATH, usecols=COLS, low_memory=False)\n",
    "    \n",
    "    df = df[df['has_availability'] == 't']\n",
    "    \n",
    "#     df['host_acceptance_rate'] = df['host_acceptance_rate'].astype(str).apply(lambda x: x.replace('%','') if x!='nan' else np.nan)\n",
    "#     df['host_acceptance_rate'] = df['host_acceptance_rate'].astype(float)/100\n",
    "    \n",
    "    df['host_since'] = pd.to_datetime(df['host_since']).dt.year\n",
    "    \n",
    "    # Bool Columns\n",
    "    df['host_is_superhost'] = [True if i == 't' else False if i == 'f' else np.nan for i in df['host_is_superhost']]\n",
    "    df['host_has_profile_pic'] = [True if i == 't' else False if i == 'f' else np.nan for i in df['host_has_profile_pic']]\n",
    "    df['host_identity_verified'] = [True if i == 't' else False if i == 'f' else np.nan for i in df['host_identity_verified']]\n",
    "    df['instant_bookable'] = [True if i == 't' else False if i == 'f' else np.nan for i in df['instant_bookable']]\n",
    "    \n",
    "    \n",
    "    df['description_len'] = df['description'].astype(str).apply(lambda x: len(x) if x!='nan' else np.nan)\n",
    "    \n",
    "    df['n_amenities'] = df['amenities'].apply(lambda x: len(x.strip('][').split(', ')) if len(x)>2 else np.nan)\n",
    "\n",
    "    df['n_bathrooms'] = [np.nan if i=='nan' else\n",
    "                         0.5 if i.split()[0]=='Half-bath' else\n",
    "                         1.0 if i.split()[0] in ['Private','Shared'] else\n",
    "                         float(i.split()[0]) for i in df['bathrooms_text'].astype(str)]\n",
    "    \n",
    "    df['price'] = df['price'].apply(lambda x: x.replace('$','').replace(',',''))\n",
    "    df['price'] = df['price'].astype(float)\n",
    "    \n",
    "    # Engineer Features\n",
    "    df['baths_are_shared'] = [np.nan if i=='nan' else True if i.count('shared')!=0 else False for i in df['bathrooms_text'].astype(str)]\n",
    "    \n",
    "    df['multi_listing_host'] = [np.nan if i==np.nan else True if i>1 else False for i in df['host_listings_count']]\n",
    "    \n",
    "    df['total_satisfaction'] = (df['review_scores_accuracy']+df['review_scores_cleanliness']+df['review_scores_checkin']+df['review_scores_communication']+df['review_scores_location'])/5\n",
    "    \n",
    "    df.drop(columns=['has_availability','description', 'amenities','bathrooms_text', 'host_listings_count',\n",
    "                     'review_scores_accuracy','review_scores_location','review_scores_cleanliness',\n",
    "                     'review_scores_checkin','review_scores_communication'], inplace=True)\n",
    "    \n",
    "    \n",
    "    \n",
    "    # Rename Columns\n",
    "    df.columns = ['picture_url', 'host_since', 'response_time', 'superhost',\n",
    "       'host_profile_pic', 'id_verified', 'neighbourhood_cleansed', 'lat',\n",
    "       'lon', 'room_type', 'accommodates', 'n_bedrooms', 'n_beds', 'price',\n",
    "       'min_nights', 'max_nights', 'total_reviews',\n",
    "       'n_reviews_l30d', 'reviews_rating', 'instant_bookable',\n",
    "       'reviews_per_month', 'description_len', 'n_amenities', 'n_baths',\n",
    "       'shared_baths', 'multi_listing_host', 'total_satisfaction']\n",
    "    \n",
    "    # Reorder Columns\n",
    "    df = df[['neighbourhood_cleansed','lat', 'lon','host_since','room_type','response_time','picture_url','host_profile_pic','id_verified','superhost','instant_bookable',\n",
    "             'multi_listing_host','description_len','n_amenities','accommodates','n_bedrooms','n_beds','n_baths','shared_baths','min_nights', 'max_nights','n_reviews_l30d',\n",
    "             'reviews_per_month','total_reviews','total_satisfaction','reviews_rating','price']]\n",
    "    \n",
    "    #Filtering Outliers From\n",
    "    # price Column\n",
    "    df = df[(df['price'] >= df['price'].quantile(0.04)) & (df['price'] <= df['price'].quantile(0.96))]\n",
    "    # min_nights Column\n",
    "    df = df[(df['min_nights'] >= df['min_nights'].quantile(0.01)) & (df['min_nights'] <= df['min_nights'].quantile(0.99))]\n",
    "    # max_nights Column\n",
    "    df = df[(df['max_nights'] >= df['max_nights'].quantile(0.001)) & (df['max_nights'] <= df['max_nights'].quantile(0.99))]\n",
    "    # n_amenities Column\n",
    "    df = df[(df['n_amenities'] >= df['n_amenities'].quantile(0.005)) & (df['n_amenities'] <= df['n_amenities'].quantile(0.999))]\n",
    "    # n_baths Column\n",
    "    df = df[(df['n_baths'] >= df['n_baths'].quantile(0.0001)) & (df['n_baths'] <= df['n_baths'].quantile(0.9999))]\n",
    "#     # n_beds Column\n",
    "#     df = df[(df['n_beds'] >= df['n_beds'].quantile(0.01)) & (df['n_beds'] <= df['n_beds'].quantile(0.99))]\n",
    "    # description_len Column\n",
    "    df = df[(df['description_len'] >= df['description_len'].quantile(0.01)) & (df['description_len'] <= df['description_len'].quantile(0.99))]\n",
    "#     # reviews_per_month Column\n",
    "#     df = df[df['reviews_per_month'] <= df['reviews_per_month'].quantile(0.9999)]\n",
    "    \n",
    "    # Null Values\n",
    "    df['response_time'][df['response_time'].isnull()] = 'within an hour'\n",
    "    df = df[df['host_profile_pic'].notnull() & df['superhost'].notnull() & df['id_verified'].notnull()]\n",
    "    \n",
    "    \n",
    "    # #Scale Columns\n",
    "    # df['log_reviews_per_month'] = [np.nan if i==np.nan else 0 if i==0 else np.log(i) for i in df['reviews_per_month']]\n",
    "    # df['log_total_reviews'] = [np.nan if i==np.nan else 0 if i==0 else np.log(i) for i in df['total_reviews']]\n",
    "    \n",
    "    #Drop Highly Correlated Features & last min drops\n",
    "    df.drop(columns=['n_reviews_l30d', 'picture_url', 'reviews_rating'], inplace=True)\n",
    "    \n",
    "    \n",
    "    \n",
    "    return df"
   ]
  },
  {
   "cell_type": "code",
   "execution_count": 474,
   "metadata": {},
   "outputs": [],
   "source": [
    "Winter_df = wrangle_data('Concat_CSVs/Winter_Data.csv')\n",
    "# Spring_df = wrangle_data('Concat_CSVs/Spring_Data.csv')\n",
    "# Summer_df = wrangle_data('Concat_CSVs/Summer_Data.csv')\n",
    "# Fall_df = wrangle_data('Concat_CSVs/Fall_Data.csv')"
   ]
  },
  {
   "cell_type": "code",
   "execution_count": 475,
   "metadata": {},
   "outputs": [
    {
     "data": {
      "text/plain": [
       "(164, 181, 186, 191)"
      ]
     },
     "execution_count": 475,
     "metadata": {},
     "output_type": "execute_result"
    }
   ],
   "source": [
    " round(Spring_df['price'].mean()), round(Summer_df['price'].mean()), round(Fall_df['price'].mean()), round(Winter_df['price'].mean())"
   ]
  },
  {
   "cell_type": "code",
   "execution_count": 476,
   "metadata": {},
   "outputs": [
    {
     "data": {
      "text/plain": [
       "Index(['neighbourhood_cleansed', 'lat', 'lon', 'host_since', 'room_type',\n",
       "       'response_time', 'host_profile_pic', 'id_verified', 'superhost',\n",
       "       'instant_bookable', 'multi_listing_host', 'description_len',\n",
       "       'n_amenities', 'accommodates', 'n_bedrooms', 'n_beds', 'n_baths',\n",
       "       'shared_baths', 'min_nights', 'max_nights', 'reviews_per_month',\n",
       "       'total_reviews', 'total_satisfaction', 'price'],\n",
       "      dtype='object')"
      ]
     },
     "execution_count": 476,
     "metadata": {},
     "output_type": "execute_result"
    }
   ],
   "source": [
    "Winter_df.columns"
   ]
  },
  {
   "cell_type": "code",
   "execution_count": 477,
   "metadata": {},
   "outputs": [
    {
     "data": {
      "text/html": [
       "<div>\n",
       "<style scoped>\n",
       "    .dataframe tbody tr th:only-of-type {\n",
       "        vertical-align: middle;\n",
       "    }\n",
       "\n",
       "    .dataframe tbody tr th {\n",
       "        vertical-align: top;\n",
       "    }\n",
       "\n",
       "    .dataframe thead th {\n",
       "        text-align: right;\n",
       "    }\n",
       "</style>\n",
       "<table border=\"1\" class=\"dataframe\">\n",
       "  <thead>\n",
       "    <tr style=\"text-align: right;\">\n",
       "      <th></th>\n",
       "      <th>neighbourhood_cleansed</th>\n",
       "      <th>lat</th>\n",
       "      <th>lon</th>\n",
       "      <th>host_since</th>\n",
       "      <th>room_type</th>\n",
       "      <th>response_time</th>\n",
       "      <th>host_profile_pic</th>\n",
       "      <th>id_verified</th>\n",
       "      <th>superhost</th>\n",
       "      <th>instant_bookable</th>\n",
       "      <th>multi_listing_host</th>\n",
       "      <th>description_len</th>\n",
       "      <th>n_amenities</th>\n",
       "      <th>accommodates</th>\n",
       "      <th>n_bedrooms</th>\n",
       "      <th>n_beds</th>\n",
       "      <th>n_baths</th>\n",
       "      <th>shared_baths</th>\n",
       "      <th>min_nights</th>\n",
       "      <th>max_nights</th>\n",
       "      <th>reviews_per_month</th>\n",
       "      <th>total_reviews</th>\n",
       "      <th>total_satisfaction</th>\n",
       "      <th>price</th>\n",
       "    </tr>\n",
       "  </thead>\n",
       "  <tbody>\n",
       "    <tr>\n",
       "      <th>0</th>\n",
       "      <td>28801</td>\n",
       "      <td>35.60670</td>\n",
       "      <td>-82.55563</td>\n",
       "      <td>2010.0</td>\n",
       "      <td>Entire home/apt</td>\n",
       "      <td>within an hour</td>\n",
       "      <td>True</td>\n",
       "      <td>True</td>\n",
       "      <td>False</td>\n",
       "      <td>False</td>\n",
       "      <td>True</td>\n",
       "      <td>1000.0</td>\n",
       "      <td>40.0</td>\n",
       "      <td>2</td>\n",
       "      <td>1.0</td>\n",
       "      <td>1.0</td>\n",
       "      <td>1.0</td>\n",
       "      <td>False</td>\n",
       "      <td>30</td>\n",
       "      <td>365</td>\n",
       "      <td>0.71</td>\n",
       "      <td>89</td>\n",
       "      <td>4.750</td>\n",
       "      <td>120.0</td>\n",
       "    </tr>\n",
       "    <tr>\n",
       "      <th>1</th>\n",
       "      <td>28806</td>\n",
       "      <td>35.57864</td>\n",
       "      <td>-82.59578</td>\n",
       "      <td>2011.0</td>\n",
       "      <td>Entire home/apt</td>\n",
       "      <td>within an hour</td>\n",
       "      <td>True</td>\n",
       "      <td>True</td>\n",
       "      <td>False</td>\n",
       "      <td>True</td>\n",
       "      <td>True</td>\n",
       "      <td>759.0</td>\n",
       "      <td>26.0</td>\n",
       "      <td>2</td>\n",
       "      <td>1.0</td>\n",
       "      <td>1.0</td>\n",
       "      <td>1.0</td>\n",
       "      <td>False</td>\n",
       "      <td>1</td>\n",
       "      <td>365</td>\n",
       "      <td>2.75</td>\n",
       "      <td>347</td>\n",
       "      <td>4.720</td>\n",
       "      <td>90.0</td>\n",
       "    </tr>\n",
       "    <tr>\n",
       "      <th>2</th>\n",
       "      <td>28806</td>\n",
       "      <td>35.57864</td>\n",
       "      <td>-82.59578</td>\n",
       "      <td>2011.0</td>\n",
       "      <td>Private room</td>\n",
       "      <td>within an hour</td>\n",
       "      <td>True</td>\n",
       "      <td>True</td>\n",
       "      <td>False</td>\n",
       "      <td>True</td>\n",
       "      <td>True</td>\n",
       "      <td>647.0</td>\n",
       "      <td>20.0</td>\n",
       "      <td>2</td>\n",
       "      <td>1.0</td>\n",
       "      <td>1.0</td>\n",
       "      <td>2.5</td>\n",
       "      <td>True</td>\n",
       "      <td>1</td>\n",
       "      <td>365</td>\n",
       "      <td>0.54</td>\n",
       "      <td>67</td>\n",
       "      <td>4.674</td>\n",
       "      <td>66.0</td>\n",
       "    </tr>\n",
       "    <tr>\n",
       "      <th>5</th>\n",
       "      <td>28806</td>\n",
       "      <td>35.57808</td>\n",
       "      <td>-82.63689</td>\n",
       "      <td>2011.0</td>\n",
       "      <td>Private room</td>\n",
       "      <td>within a few hours</td>\n",
       "      <td>True</td>\n",
       "      <td>True</td>\n",
       "      <td>False</td>\n",
       "      <td>False</td>\n",
       "      <td>False</td>\n",
       "      <td>1000.0</td>\n",
       "      <td>40.0</td>\n",
       "      <td>2</td>\n",
       "      <td>1.0</td>\n",
       "      <td>1.0</td>\n",
       "      <td>1.0</td>\n",
       "      <td>False</td>\n",
       "      <td>2</td>\n",
       "      <td>4</td>\n",
       "      <td>0.37</td>\n",
       "      <td>42</td>\n",
       "      <td>4.924</td>\n",
       "      <td>45.0</td>\n",
       "    </tr>\n",
       "    <tr>\n",
       "      <th>6</th>\n",
       "      <td>28804</td>\n",
       "      <td>35.61856</td>\n",
       "      <td>-82.55276</td>\n",
       "      <td>2011.0</td>\n",
       "      <td>Entire home/apt</td>\n",
       "      <td>within a day</td>\n",
       "      <td>True</td>\n",
       "      <td>True</td>\n",
       "      <td>False</td>\n",
       "      <td>False</td>\n",
       "      <td>False</td>\n",
       "      <td>1000.0</td>\n",
       "      <td>35.0</td>\n",
       "      <td>4</td>\n",
       "      <td>1.0</td>\n",
       "      <td>2.0</td>\n",
       "      <td>1.0</td>\n",
       "      <td>False</td>\n",
       "      <td>30</td>\n",
       "      <td>360</td>\n",
       "      <td>0.46</td>\n",
       "      <td>57</td>\n",
       "      <td>4.914</td>\n",
       "      <td>134.0</td>\n",
       "    </tr>\n",
       "  </tbody>\n",
       "</table>\n",
       "</div>"
      ],
      "text/plain": [
       "  neighbourhood_cleansed       lat       lon  host_since        room_type  \\\n",
       "0                  28801  35.60670 -82.55563      2010.0  Entire home/apt   \n",
       "1                  28806  35.57864 -82.59578      2011.0  Entire home/apt   \n",
       "2                  28806  35.57864 -82.59578      2011.0     Private room   \n",
       "5                  28806  35.57808 -82.63689      2011.0     Private room   \n",
       "6                  28804  35.61856 -82.55276      2011.0  Entire home/apt   \n",
       "\n",
       "        response_time host_profile_pic id_verified superhost  \\\n",
       "0      within an hour             True        True     False   \n",
       "1      within an hour             True        True     False   \n",
       "2      within an hour             True        True     False   \n",
       "5  within a few hours             True        True     False   \n",
       "6        within a day             True        True     False   \n",
       "\n",
       "   instant_bookable  multi_listing_host  description_len  n_amenities  \\\n",
       "0             False                True           1000.0         40.0   \n",
       "1              True                True            759.0         26.0   \n",
       "2              True                True            647.0         20.0   \n",
       "5             False               False           1000.0         40.0   \n",
       "6             False               False           1000.0         35.0   \n",
       "\n",
       "   accommodates  n_bedrooms  n_beds  n_baths shared_baths  min_nights  \\\n",
       "0             2         1.0     1.0      1.0        False          30   \n",
       "1             2         1.0     1.0      1.0        False           1   \n",
       "2             2         1.0     1.0      2.5         True           1   \n",
       "5             2         1.0     1.0      1.0        False           2   \n",
       "6             4         1.0     2.0      1.0        False          30   \n",
       "\n",
       "   max_nights  reviews_per_month  total_reviews  total_satisfaction  price  \n",
       "0         365               0.71             89               4.750  120.0  \n",
       "1         365               2.75            347               4.720   90.0  \n",
       "2         365               0.54             67               4.674   66.0  \n",
       "5           4               0.37             42               4.924   45.0  \n",
       "6         360               0.46             57               4.914  134.0  "
      ]
     },
     "execution_count": 477,
     "metadata": {},
     "output_type": "execute_result"
    }
   ],
   "source": [
    "Winter_df.head()"
   ]
  },
  {
   "cell_type": "code",
   "execution_count": 478,
   "metadata": {},
   "outputs": [
    {
     "name": "stdout",
     "output_type": "stream",
     "text": [
      "<class 'pandas.core.frame.DataFrame'>\n",
      "Int64Index: 187284 entries, 0 to 216312\n",
      "Data columns (total 24 columns):\n",
      " #   Column                  Non-Null Count   Dtype  \n",
      "---  ------                  --------------   -----  \n",
      " 0   neighbourhood_cleansed  187284 non-null  object \n",
      " 1   lat                     187284 non-null  float64\n",
      " 2   lon                     187284 non-null  float64\n",
      " 3   host_since              187284 non-null  float64\n",
      " 4   room_type               187284 non-null  object \n",
      " 5   response_time           187284 non-null  object \n",
      " 6   host_profile_pic        187284 non-null  object \n",
      " 7   id_verified             187284 non-null  object \n",
      " 8   superhost               187284 non-null  object \n",
      " 9   instant_bookable        187284 non-null  bool   \n",
      " 10  multi_listing_host      187284 non-null  bool   \n",
      " 11  description_len         187284 non-null  float64\n",
      " 12  n_amenities             187284 non-null  float64\n",
      " 13  accommodates            187284 non-null  int64  \n",
      " 14  n_bedrooms              168114 non-null  float64\n",
      " 15  n_beds                  181289 non-null  float64\n",
      " 16  n_baths                 187284 non-null  float64\n",
      " 17  shared_baths            187284 non-null  object \n",
      " 18  min_nights              187284 non-null  int64  \n",
      " 19  max_nights              187284 non-null  int64  \n",
      " 20  reviews_per_month       154131 non-null  float64\n",
      " 21  total_reviews           187284 non-null  int64  \n",
      " 22  total_satisfaction      153130 non-null  float64\n",
      " 23  price                   187284 non-null  float64\n",
      "dtypes: bool(2), float64(11), int64(4), object(7)\n",
      "memory usage: 33.2+ MB\n"
     ]
    }
   ],
   "source": [
    "Winter_df.info()"
   ]
  },
  {
   "cell_type": "code",
   "execution_count": 479,
   "metadata": {},
   "outputs": [
    {
     "data": {
      "text/html": [
       "<div>\n",
       "<style scoped>\n",
       "    .dataframe tbody tr th:only-of-type {\n",
       "        vertical-align: middle;\n",
       "    }\n",
       "\n",
       "    .dataframe tbody tr th {\n",
       "        vertical-align: top;\n",
       "    }\n",
       "\n",
       "    .dataframe thead th {\n",
       "        text-align: right;\n",
       "    }\n",
       "</style>\n",
       "<table border=\"1\" class=\"dataframe\">\n",
       "  <thead>\n",
       "    <tr style=\"text-align: right;\">\n",
       "      <th></th>\n",
       "      <th>lat</th>\n",
       "      <th>lon</th>\n",
       "      <th>host_since</th>\n",
       "      <th>description_len</th>\n",
       "      <th>n_amenities</th>\n",
       "      <th>accommodates</th>\n",
       "      <th>n_bedrooms</th>\n",
       "      <th>n_beds</th>\n",
       "      <th>n_baths</th>\n",
       "      <th>min_nights</th>\n",
       "      <th>max_nights</th>\n",
       "      <th>reviews_per_month</th>\n",
       "      <th>total_reviews</th>\n",
       "      <th>total_satisfaction</th>\n",
       "      <th>price</th>\n",
       "    </tr>\n",
       "  </thead>\n",
       "  <tbody>\n",
       "    <tr>\n",
       "      <th>count</th>\n",
       "      <td>187284.000000</td>\n",
       "      <td>187284.000000</td>\n",
       "      <td>187284.000000</td>\n",
       "      <td>187284.000000</td>\n",
       "      <td>187284.000000</td>\n",
       "      <td>187284.000000</td>\n",
       "      <td>168114.000000</td>\n",
       "      <td>181289.000000</td>\n",
       "      <td>187284.000000</td>\n",
       "      <td>187284.000000</td>\n",
       "      <td>187284.000000</td>\n",
       "      <td>154131.000000</td>\n",
       "      <td>187284.000000</td>\n",
       "      <td>153130.000000</td>\n",
       "      <td>187284.000000</td>\n",
       "    </tr>\n",
       "    <tr>\n",
       "      <th>mean</th>\n",
       "      <td>34.941816</td>\n",
       "      <td>-104.774059</td>\n",
       "      <td>2015.932552</td>\n",
       "      <td>815.561372</td>\n",
       "      <td>30.840184</td>\n",
       "      <td>4.015767</td>\n",
       "      <td>1.697842</td>\n",
       "      <td>2.219020</td>\n",
       "      <td>1.405918</td>\n",
       "      <td>11.452180</td>\n",
       "      <td>600.998190</td>\n",
       "      <td>1.834199</td>\n",
       "      <td>41.870192</td>\n",
       "      <td>4.811377</td>\n",
       "      <td>190.974621</td>\n",
       "    </tr>\n",
       "    <tr>\n",
       "      <th>std</th>\n",
       "      <td>6.942543</td>\n",
       "      <td>26.578559</td>\n",
       "      <td>2.729930</td>\n",
       "      <td>269.937560</td>\n",
       "      <td>12.822077</td>\n",
       "      <td>2.530220</td>\n",
       "      <td>0.992013</td>\n",
       "      <td>1.622493</td>\n",
       "      <td>0.710716</td>\n",
       "      <td>15.028071</td>\n",
       "      <td>503.637901</td>\n",
       "      <td>3.138779</td>\n",
       "      <td>75.115386</td>\n",
       "      <td>0.311848</td>\n",
       "      <td>142.181187</td>\n",
       "    </tr>\n",
       "    <tr>\n",
       "      <th>min</th>\n",
       "      <td>18.920250</td>\n",
       "      <td>-159.714620</td>\n",
       "      <td>2008.000000</td>\n",
       "      <td>60.000000</td>\n",
       "      <td>5.000000</td>\n",
       "      <td>1.000000</td>\n",
       "      <td>1.000000</td>\n",
       "      <td>1.000000</td>\n",
       "      <td>0.000000</td>\n",
       "      <td>1.000000</td>\n",
       "      <td>2.000000</td>\n",
       "      <td>0.010000</td>\n",
       "      <td>0.000000</td>\n",
       "      <td>0.000000</td>\n",
       "      <td>40.000000</td>\n",
       "    </tr>\n",
       "    <tr>\n",
       "      <th>25%</th>\n",
       "      <td>30.394893</td>\n",
       "      <td>-118.598905</td>\n",
       "      <td>2014.000000</td>\n",
       "      <td>617.000000</td>\n",
       "      <td>21.000000</td>\n",
       "      <td>2.000000</td>\n",
       "      <td>1.000000</td>\n",
       "      <td>1.000000</td>\n",
       "      <td>1.000000</td>\n",
       "      <td>2.000000</td>\n",
       "      <td>45.000000</td>\n",
       "      <td>0.330000</td>\n",
       "      <td>1.000000</td>\n",
       "      <td>4.782000</td>\n",
       "      <td>93.000000</td>\n",
       "    </tr>\n",
       "    <tr>\n",
       "      <th>50%</th>\n",
       "      <td>36.114040</td>\n",
       "      <td>-105.021480</td>\n",
       "      <td>2016.000000</td>\n",
       "      <td>1000.000000</td>\n",
       "      <td>30.000000</td>\n",
       "      <td>4.000000</td>\n",
       "      <td>1.000000</td>\n",
       "      <td>2.000000</td>\n",
       "      <td>1.000000</td>\n",
       "      <td>3.000000</td>\n",
       "      <td>365.000000</td>\n",
       "      <td>1.030000</td>\n",
       "      <td>11.000000</td>\n",
       "      <td>4.894000</td>\n",
       "      <td>148.000000</td>\n",
       "    </tr>\n",
       "    <tr>\n",
       "      <th>75%</th>\n",
       "      <td>40.694952</td>\n",
       "      <td>-80.091377</td>\n",
       "      <td>2018.000000</td>\n",
       "      <td>1000.000000</td>\n",
       "      <td>39.000000</td>\n",
       "      <td>5.000000</td>\n",
       "      <td>2.000000</td>\n",
       "      <td>3.000000</td>\n",
       "      <td>2.000000</td>\n",
       "      <td>30.000000</td>\n",
       "      <td>1125.000000</td>\n",
       "      <td>2.490000</td>\n",
       "      <td>48.000000</td>\n",
       "      <td>4.958000</td>\n",
       "      <td>243.000000</td>\n",
       "    </tr>\n",
       "    <tr>\n",
       "      <th>max</th>\n",
       "      <td>47.734034</td>\n",
       "      <td>-70.997810</td>\n",
       "      <td>2021.000000</td>\n",
       "      <td>1000.000000</td>\n",
       "      <td>76.000000</td>\n",
       "      <td>16.000000</td>\n",
       "      <td>13.000000</td>\n",
       "      <td>32.000000</td>\n",
       "      <td>11.000000</td>\n",
       "      <td>91.000000</td>\n",
       "      <td>1125.000000</td>\n",
       "      <td>362.000000</td>\n",
       "      <td>1623.000000</td>\n",
       "      <td>5.000000</td>\n",
       "      <td>800.000000</td>\n",
       "    </tr>\n",
       "  </tbody>\n",
       "</table>\n",
       "</div>"
      ],
      "text/plain": [
       "                 lat            lon     host_since  description_len  \\\n",
       "count  187284.000000  187284.000000  187284.000000    187284.000000   \n",
       "mean       34.941816    -104.774059    2015.932552       815.561372   \n",
       "std         6.942543      26.578559       2.729930       269.937560   \n",
       "min        18.920250    -159.714620    2008.000000        60.000000   \n",
       "25%        30.394893    -118.598905    2014.000000       617.000000   \n",
       "50%        36.114040    -105.021480    2016.000000      1000.000000   \n",
       "75%        40.694952     -80.091377    2018.000000      1000.000000   \n",
       "max        47.734034     -70.997810    2021.000000      1000.000000   \n",
       "\n",
       "         n_amenities   accommodates     n_bedrooms         n_beds  \\\n",
       "count  187284.000000  187284.000000  168114.000000  181289.000000   \n",
       "mean       30.840184       4.015767       1.697842       2.219020   \n",
       "std        12.822077       2.530220       0.992013       1.622493   \n",
       "min         5.000000       1.000000       1.000000       1.000000   \n",
       "25%        21.000000       2.000000       1.000000       1.000000   \n",
       "50%        30.000000       4.000000       1.000000       2.000000   \n",
       "75%        39.000000       5.000000       2.000000       3.000000   \n",
       "max        76.000000      16.000000      13.000000      32.000000   \n",
       "\n",
       "             n_baths     min_nights     max_nights  reviews_per_month  \\\n",
       "count  187284.000000  187284.000000  187284.000000      154131.000000   \n",
       "mean        1.405918      11.452180     600.998190           1.834199   \n",
       "std         0.710716      15.028071     503.637901           3.138779   \n",
       "min         0.000000       1.000000       2.000000           0.010000   \n",
       "25%         1.000000       2.000000      45.000000           0.330000   \n",
       "50%         1.000000       3.000000     365.000000           1.030000   \n",
       "75%         2.000000      30.000000    1125.000000           2.490000   \n",
       "max        11.000000      91.000000    1125.000000         362.000000   \n",
       "\n",
       "       total_reviews  total_satisfaction          price  \n",
       "count  187284.000000       153130.000000  187284.000000  \n",
       "mean       41.870192            4.811377     190.974621  \n",
       "std        75.115386            0.311848     142.181187  \n",
       "min         0.000000            0.000000      40.000000  \n",
       "25%         1.000000            4.782000      93.000000  \n",
       "50%        11.000000            4.894000     148.000000  \n",
       "75%        48.000000            4.958000     243.000000  \n",
       "max      1623.000000            5.000000     800.000000  "
      ]
     },
     "execution_count": 479,
     "metadata": {},
     "output_type": "execute_result"
    }
   ],
   "source": [
    "Winter_df.describe()"
   ]
  },
  {
   "cell_type": "markdown",
   "metadata": {},
   "source": [
    "# **Select Target ( X,y = FM,TV )**"
   ]
  },
  {
   "cell_type": "code",
   "execution_count": 480,
   "metadata": {},
   "outputs": [],
   "source": [
    "X = Winter_df.drop(columns=['price'])\n",
    "y = Winter_df['price']"
   ]
  },
  {
   "cell_type": "code",
   "execution_count": 481,
   "metadata": {},
   "outputs": [
    {
     "data": {
      "text/plain": [
       "Text(0.5, 1.0, 'Features Correlation')"
      ]
     },
     "execution_count": 481,
     "metadata": {},
     "output_type": "execute_result"
    },
    {
     "data": {
      "image/png": "[encoded data removed]",
      "text/plain": [
       "<Figure size 1440x576 with 2 Axes>"
      ]
     },
     "metadata": {
      "needs_background": "light"
     },
     "output_type": "display_data"
    }
   ],
   "source": [
    "plt.figure(figsize=(20,8))\n",
    "sns.heatmap(X.corr(), annot=True, cmap=\"Blues_r\")\n",
    "plt.title('Features Correlation')"
   ]
  },
  {
   "cell_type": "code",
   "execution_count": 482,
   "metadata": {},
   "outputs": [
    {
     "data": {
      "text/plain": [
       "Text(0.5, 1.0, 'Scaled Feature (reviews_per_month)')"
      ]
     },
     "execution_count": 482,
     "metadata": {},
     "output_type": "execute_result"
    },
    {
     "data": {
      "text/plain": [
       "<Figure size 1440x576 with 0 Axes>"
      ]
     },
     "metadata": {},
     "output_type": "display_data"
    },
    {
     "data": {
      "image/png": "[encoded data removed]",
      "text/plain": [
       "<Figure size 432x288 with 1 Axes>"
      ]
     },
     "metadata": {
      "needs_background": "light"
     },
     "output_type": "display_data"
    }
   ],
   "source": [
    "plt.figure(figsize=(20,8))\n",
    "Winter_df.hist('reviews_per_month', log = True)  #(X.corr(), annot=True, cmap=\"Blues_r\")\n",
    "plt.title('Scaled Feature (reviews_per_month)')"
   ]
  },
  {
   "cell_type": "code",
   "execution_count": 483,
   "metadata": {},
   "outputs": [
    {
     "data": {
      "text/plain": [
       "Text(0.5, 1.0, 'Scaled Feature (total_reviews)')"
      ]
     },
     "execution_count": 483,
     "metadata": {},
     "output_type": "execute_result"
    },
    {
     "data": {
      "text/plain": [
       "<Figure size 1440x576 with 0 Axes>"
      ]
     },
     "metadata": {},
     "output_type": "display_data"
    },
    {
     "data": {
      "image/png": "[encoded data removed]",
      "text/plain": [
       "<Figure size 432x288 with 1 Axes>"
      ]
     },
     "metadata": {
      "needs_background": "light"
     },
     "output_type": "display_data"
    }
   ],
   "source": [
    "plt.figure(figsize=(20,8))\n",
    "Winter_df.hist('reviews_per_month', log = True)  #(X.corr(), annot=True, cmap=\"Blues_r\")\n",
    "plt.title('Scaled Feature (total_reviews)')"
   ]
  },
  {
   "cell_type": "code",
   "execution_count": 484,
   "metadata": {},
   "outputs": [],
   "source": [
    "# sns.pairplot(Winter_df[Winter_df.describe().columns], diag_kind='kde')"
   ]
  },
  {
   "cell_type": "code",
   "execution_count": 485,
   "metadata": {},
   "outputs": [],
   "source": [
    "# import urllib.request\n",
    "\n",
    "# from PIL import Image\n",
    "\n",
    "# def resolution_of_img(list1):\n",
    "#     list1_res=[]\n",
    "#     for i in list1:\n",
    "#         urllib.request.urlretrieve(i, 'file_name')\n",
    "\n",
    "#         img = Image.open('file_name')\n",
    "\n",
    "#         wid, hgt = img.size\n",
    "#         list1_res.append(wid*hgt)\n",
    "\n",
    "#     return list1_res"
   ]
  },
  {
   "cell_type": "code",
   "execution_count": 486,
   "metadata": {},
   "outputs": [],
   "source": [
    "# mask = [True if i[-4:].lower()=='.jpg' else False for i in df['picture_url']]\n",
    "# len(df['picture_url'])"
   ]
  },
  {
   "cell_type": "code",
   "execution_count": 487,
   "metadata": {},
   "outputs": [],
   "source": [
    "# resolution_of_img(list(df['picture_url']))"
   ]
  },
  {
   "cell_type": "markdown",
   "metadata": {},
   "source": [
    "# **Split Data**"
   ]
  },
  {
   "cell_type": "code",
   "execution_count": 488,
   "metadata": {},
   "outputs": [],
   "source": [
    "X_train, X_test, y_train, y_test = train_test_split(X, y, test_size=0.20, random_state=42)"
   ]
  },
  {
   "cell_type": "code",
   "execution_count": 489,
   "metadata": {},
   "outputs": [
    {
     "data": {
      "text/plain": [
       "((149827, 23), (37457, 23), (149827,), (37457,))"
      ]
     },
     "execution_count": 489,
     "metadata": {},
     "output_type": "execute_result"
    }
   ],
   "source": [
    "X_train.shape, X_test.shape, y_train.shape, y_test.shape"
   ]
  },
  {
   "cell_type": "markdown",
   "metadata": {},
   "source": [
    "# **SET BASELINE**"
   ]
  },
  {
   "cell_type": "code",
   "execution_count": 490,
   "metadata": {},
   "outputs": [
    {
     "name": "stdout",
     "output_type": "stream",
     "text": [
      "Baseline MAE:  105.3189369176695\n"
     ]
    }
   ],
   "source": [
    "y_pred = [y_train.mean()] * len(y_train)\n",
    "\n",
    "print('Baseline MAE: ',mean_absolute_error(y_train,y_pred))"
   ]
  },
  {
   "cell_type": "markdown",
   "metadata": {},
   "source": [
    "# **Models Pipeline**"
   ]
  },
  {
   "cell_type": "code",
   "execution_count": 491,
   "metadata": {},
   "outputs": [],
   "source": [
    "model_lr =  make_pipeline(\n",
    "    OrdinalEncoder(),\n",
    "    SimpleImputer(),\n",
    "    LinearRegression()\n",
    ") \n",
    "\n",
    "\n",
    "model_rd = make_pipeline(\n",
    "    OrdinalEncoder(),\n",
    "    SimpleImputer(),\n",
    "    Ridge()\n",
    ")\n",
    "\n",
    "model_rfr = make_pipeline(\n",
    "    OrdinalEncoder(),\n",
    "    SimpleImputer(),\n",
    "    RandomForestRegressor(n_jobs=-1, random_state=42)\n",
    ")\n",
    "\n",
    "model_xgb = make_pipeline(\n",
    "    OrdinalEncoder(),\n",
    "    SimpleImputer(),\n",
    "    XGBRegressor(n_jobs=-1, random_state=42,objective ='reg:squarederror')\n",
    ")\n"
   ]
  },
  {
   "cell_type": "markdown",
   "metadata": {},
   "source": [
    "# **Fitting Models**"
   ]
  },
  {
   "cell_type": "code",
   "execution_count": 492,
   "metadata": {},
   "outputs": [],
   "source": [
    "model_lr.fit(X_train,y_train);\n",
    "model_rd.fit(X_train,y_train);\n",
    "model_rfr.fit(X_train,y_train);\n",
    "model_xgb.fit(X_train,y_train);"
   ]
  },
  {
   "cell_type": "markdown",
   "metadata": {},
   "source": [
    "# **Checking and Comparing Metrics**"
   ]
  },
  {
   "cell_type": "code",
   "execution_count": 493,
   "metadata": {},
   "outputs": [
    {
     "name": "stdout",
     "output_type": "stream",
     "text": [
      "LinearRegression:\n",
      "Training MAE: 75.04209104446733\n",
      "Test MAE: 74.01810599499825\n",
      "Test R^2: 0.43922506426110963\n",
      "\n",
      "\n",
      "Ridge:\n",
      "Training MAE: 75.04203903162151\n",
      "Test MAE: 74.0180574448815\n",
      "Test R^2: 0.4392250038733422\n",
      "\n",
      "\n",
      "RandomForestRegressor\n",
      "Training MAE: 19.64646690228044\n",
      "Test MAE: 52.856931047654925\n",
      "Test R^2: 0.6585930467619181\n",
      "\n",
      "\n",
      "XGBRegressor:\n",
      "Training MAE: 51.095512742993094\n",
      "Test MAE: 55.09684837769593\n",
      "Test R^2: 0.6452888245623662\n",
      "\n",
      "\n"
     ]
    }
   ],
   "source": [
    "def check_metrics(model):\n",
    "  #print(model)\n",
    "  print('Training MAE:', mean_absolute_error(y_train, model.predict(X_train)))\n",
    "  print('Test MAE:', mean_absolute_error(y_test, model.predict(X_test)))\n",
    "  print('Test R^2:', model.score(X_test, y_test))\n",
    "  print()\n",
    "  print()\n",
    "\n",
    "models = [model_lr, model_rd, model_rfr, model_xgb]\n",
    "models_name = ['LinearRegression:','Ridge:','RandomForestRegressor','XGBRegressor:']\n",
    "for i in range(4):\n",
    "  print(models_name[i])\n",
    "  check_metrics(models[i])\n",
    "    \n",
    "# LinearRegression:\n",
    "# Training MAE: 75.11048377427583\n",
    "# Test MAE: 74.0995566954852\n",
    "# Test R^2: 0.43788657500640593\n",
    "\n",
    "\n",
    "# Ridge:\n",
    "# Training MAE: 75.1104311013773\n",
    "# Test MAE: 74.09950469620095\n",
    "# Test R^2: 0.4378865254712687\n",
    "\n",
    "\n",
    "# RandomForestRegressor\n",
    "# Training MAE: 19.63839671554341\n",
    "# Test MAE: 52.93756419855532\n",
    "# Test R^2: 0.6586319303160858\n",
    "\n",
    "\n",
    "# XGBRegressor:\n",
    "# Training MAE: 51.04689117492001\n",
    "# Test MAE: 55.166844811515766\n",
    "# Test R^2: 0.6447322467459573"
   ]
  },
  {
   "cell_type": "code",
   "execution_count": 494,
   "metadata": {},
   "outputs": [],
   "source": [
    "# Lists to Plot Models\n",
    "models = [model_lr, model_rd, model_rfr, model_xgb]\n",
    "models_type = ['Linear', 'Ridge', 'RForest', 'XGB']\n",
    "Training_MAEs = []\n",
    "Test_MAEs = []\n",
    "models_R2s = []\n",
    "\n",
    "def listing_metrics(model):\n",
    "  # Fill lists to plot and compare models\n",
    "  Training_MAEs.append(mean_absolute_error(y_train, model.predict(X_train)))\n",
    "  Test_MAEs.append(mean_absolute_error(y_test, model.predict(X_test)))\n",
    "  models_R2s.append(model.score(X_test, y_test))\n",
    "\n",
    "for m in models:\n",
    "  listing_metrics(m)"
   ]
  },
  {
   "cell_type": "code",
   "execution_count": 495,
   "metadata": {},
   "outputs": [
    {
     "data": {
      "image/png": "[encoded data removed]",
      "text/plain": [
       "<Figure size 648x396 with 1 Axes>"
      ]
     },
     "metadata": {
      "needs_background": "light"
     },
     "output_type": "display_data"
    }
   ],
   "source": [
    "# Plot Models MAEs\n",
    "w = 0.4\n",
    "bar1 = np.arange(len(models_type))\n",
    "bar2 = [i + w for i in bar1]\n",
    "\n",
    "\n",
    "plt.figure(figsize=(9,5.5))\n",
    "plt.bar(bar1, Training_MAEs, w, label='Training MAE')\n",
    "plt.bar(bar2, Test_MAEs, w, label='Test MAE')\n",
    "\n",
    "plt.xlabel('Models')\n",
    "plt.ylabel('Mean Absolute Error')\n",
    "plt.xticks(bar1+(w/2), models_type)\n",
    "plt.legend()\n",
    "plt.title('Models MAE (Train-Test Data)')\n",
    "\n",
    "plt.show()"
   ]
  },
  {
   "cell_type": "code",
   "execution_count": 496,
   "metadata": {},
   "outputs": [
    {
     "data": {
      "image/png": "[encoded data removed]",
      "text/plain": [
       "<Figure size 360x396 with 1 Axes>"
      ]
     },
     "metadata": {
      "needs_background": "light"
     },
     "output_type": "display_data"
    }
   ],
   "source": [
    "# Plot Models R^2s\n",
    "w = 0.4\n",
    "bar1 = np.arange(len(models_type))\n",
    "\n",
    "plt.figure(figsize=(5,5.5))\n",
    "plt.bar(bar1, models_R2s, w, label='R^2')\n",
    "\n",
    "plt.xlabel('Models')\n",
    "plt.ylabel('R-Square Values')\n",
    "plt.xticks(bar1, models_type)\n",
    "plt.legend()\n",
    "plt.title('Models R2 (Test-Data)')\n",
    "\n",
    "plt.show()"
   ]
  },
  {
   "cell_type": "markdown",
   "metadata": {},
   "source": [
    "# **Tunning Random Forest Regressor**"
   ]
  },
  {
   "cell_type": "code",
   "execution_count": 501,
   "metadata": {},
   "outputs": [
    {
     "name": "stdout",
     "output_type": "stream",
     "text": [
      "Fitting 5 folds for each of 27 candidates, totalling 135 fits\n"
     ]
    }
   ],
   "source": [
    "param_grid = {\"randomforestregressor__n_estimators\": range(113,116),\n",
    "              \"randomforestregressor__min_samples_split\": [7,8,9],\n",
    "              \"randomforestregressor__min_samples_leaf\": [1],\n",
    "              \"randomforestregressor__max_samples\":  [0.6,0.7,0.8],\n",
    "              \"randomforestregressor__max_features\":['log2'],\n",
    "              \"randomforestregressor__max_depth\": range(21,22),  \n",
    "              \"randomforestregressor__bootstrap\": [True]\n",
    "              \n",
    "             }\n",
    "model_rfr_search = GridSearchCV(\n",
    "    model_rfr,\n",
    "    param_grid = param_grid,\n",
    "    cv=5,\n",
    "    verbose=1# status updates\n",
    ")\n",
    "\n",
    "# Fit it to the data\n",
    "model_rfr_search.fit(X, y);"
   ]
  },
  {
   "cell_type": "code",
   "execution_count": 502,
   "metadata": {},
   "outputs": [
    {
     "data": {
      "text/plain": [
       "{'randomforestregressor__bootstrap': True,\n",
       " 'randomforestregressor__max_depth': 21,\n",
       " 'randomforestregressor__max_features': 'log2',\n",
       " 'randomforestregressor__max_samples': 0.6,\n",
       " 'randomforestregressor__min_samples_leaf': 1,\n",
       " 'randomforestregressor__min_samples_split': 7,\n",
       " 'randomforestregressor__n_estimators': 115}"
      ]
     },
     "execution_count": 502,
     "metadata": {},
     "output_type": "execute_result"
    }
   ],
   "source": [
    "model_rfr_search.best_params_\n",
    "\n",
    "# {'randomforestregressor__bootstrap': True,\n",
    "#  'randomforestregressor__max_depth': 21,\n",
    "#  'randomforestregressor__max_features': 'log2',\n",
    "#  'randomforestregressor__max_samples': 0.6,\n",
    "#  'randomforestregressor__min_samples_leaf': 1,\n",
    "#  'randomforestregressor__min_samples_split': 7,\n",
    "#  'randomforestregressor__n_estimators': 115}\n",
    "\n",
    "# Training MAE: 41.83090308593132\n",
    "# Test MAE: 41.688176437643875\n",
    "# Test R^2: 0.8030313278918086\n",
    "\n",
    "\n",
    "# Test MAE: 41.688176437643875\n",
    "# Test R^2: 0.8030313278918086\n"
   ]
  },
  {
   "cell_type": "code",
   "execution_count": 503,
   "metadata": {},
   "outputs": [
    {
     "name": "stdout",
     "output_type": "stream",
     "text": [
      "Training MAE: 41.83090308593132\n",
      "Test MAE: 41.688176437643875\n",
      "Test R^2: 0.8030313278918086\n",
      "\n",
      "\n",
      "Test MAE: 41.688176437643875\n",
      "Test R^2: 0.8030313278918086\n"
     ]
    }
   ],
   "source": [
    "check_metrics(model_rfr_search)\n",
    "\n",
    "print('Test MAE:', mean_absolute_error(y_test, model_rfr_search.predict(X_test)))\n",
    "print('Test R^2:', model_rfr_search.score(X_test,y_test))"
   ]
  },
  {
   "cell_type": "markdown",
   "metadata": {},
   "source": [
    "# **Tunning Ridge Regressor**"
   ]
  },
  {
   "cell_type": "code",
   "execution_count": 234,
   "metadata": {},
   "outputs": [
    {
     "name": "stdout",
     "output_type": "stream",
     "text": [
      "Fitting 5 folds for each of 18 candidates, totalling 90 fits\n"
     ]
    }
   ],
   "source": [
    "param_grid = {\"ridge__alpha\": range(1,10),\n",
    "              \"ridge__fit_intercept\": [True,False]\n",
    "             }\n",
    "\n",
    "model_rd_search = GridSearchCV(\n",
    "    model_rd,\n",
    "    param_grid = param_grid,\n",
    "    cv=5,\n",
    "    verbose=1# status updates\n",
    ")\n",
    "\n",
    "# Fit it to the data\n",
    "model_rd_search.fit(X, y);"
   ]
  },
  {
   "cell_type": "code",
   "execution_count": 235,
   "metadata": {},
   "outputs": [
    {
     "data": {
      "text/plain": [
       "{'ridge__alpha': 9, 'ridge__fit_intercept': True}"
      ]
     },
     "execution_count": 235,
     "metadata": {},
     "output_type": "execute_result"
    }
   ],
   "source": [
    "model_rd_search.best_params_"
   ]
  },
  {
   "cell_type": "code",
   "execution_count": 236,
   "metadata": {},
   "outputs": [
    {
     "name": "stdout",
     "output_type": "stream",
     "text": [
      "Training MAE: 75.22088368249234\n",
      "Test MAE: 74.20552740000342\n",
      "Test R^2: 0.4360108249916749\n",
      "\n",
      "\n",
      "Test MAE: 74.20552740000342\n",
      "Test R^2: 0.4360108249916749\n"
     ]
    }
   ],
   "source": [
    "check_metrics(model_rd_search)\n",
    "\n",
    "print('Test MAE:', mean_absolute_error(y_test, model_rd_search.predict(X_test)))\n",
    "print('Test R^2:', model_rd_search.score(X_test,y_test))"
   ]
  },
  {
   "cell_type": "code",
   "execution_count": null,
   "metadata": {},
   "outputs": [],
   "source": []
  }
 ],
 "metadata": {
  "kernelspec": {
   "display_name": "Airbnb-Project (Python3)",
   "language": "python",
   "name": "build_week_airbnb"
  },
  "language_info": {
   "codemirror_mode": {
    "name": "ipython",
    "version": 3
   },
   "file_extension": ".py",
   "mimetype": "text/x-python",
   "name": "python",
   "nbconvert_exporter": "python",
   "pygments_lexer": "ipython3",
   "version": "3.10.1"
  }
 },
 "nbformat": 4,
 "nbformat_minor": 4
}
